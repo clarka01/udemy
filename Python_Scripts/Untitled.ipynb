{
 "cells": [
  {
   "cell_type": "code",
   "execution_count": 23,
   "metadata": {},
   "outputs": [
    {
     "name": "stdout",
     "output_type": "stream",
     "text": [
      "CNC + python = Awesome!\n",
      "Home Improvement + python = Awesome!\n",
      "Finances + python = not a hobby, but Less Painful...\n",
      "None\n"
     ]
    }
   ],
   "source": [
    "def enhance_hobbies(favorite_hobbies):\n",
    "    for hobby in favorite_hobbies:\n",
    "        if hobby != \"Finances\":\n",
    "            print(f\"{hobby} + python = Awesome!\" )\n",
    "        else: \n",
    "            print(f\"{hobby} + python = not a hobby, but Less Painful...\" )\n",
    "print(enhance_hobbies([\"CNC\", \"Home Improvement\", \"Finances\"]))"
   ]
  },
  {
   "cell_type": "code",
   "execution_count": null,
   "metadata": {},
   "outputs": [],
   "source": []
  }
 ],
 "metadata": {
  "kernelspec": {
   "display_name": "Python 3",
   "language": "python",
   "name": "python3"
  },
  "language_info": {
   "codemirror_mode": {
    "name": "ipython",
    "version": 3
   },
   "file_extension": ".py",
   "mimetype": "text/x-python",
   "name": "python",
   "nbconvert_exporter": "python",
   "pygments_lexer": "ipython3",
   "version": "3.8.5"
  }
 },
 "nbformat": 4,
 "nbformat_minor": 4
}
