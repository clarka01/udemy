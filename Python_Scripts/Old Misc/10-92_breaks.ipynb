{
 "cells": [
  {
   "cell_type": "markdown",
   "metadata": {},
   "source": [
    "while True:<br>\n",
    "    command = input(\"Type 'exit' to exit: \")<br>\n",
    "    if (command == \"exit\"):<br>\n",
    "        break"
   ]
  },
  {
   "cell_type": "markdown",
   "metadata": {},
   "source": [
    "for x in range(1, 101):<br>\n",
    "    print(x)<br>\n",
    "    if x == 3:<br>\n",
    "        break"
   ]
  },
  {
   "cell_type": "code",
   "execution_count": null,
   "metadata": {},
   "outputs": [],
   "source": [
    "times = int(input(\"How many times do I have to tell you? \"))"
   ]
  },
  {
   "cell_type": "code",
   "execution_count": null,
   "metadata": {},
   "outputs": [],
   "source": [
    "for time in range(times):\n",
    "\tprint(\"CLEAN UP YOUR ROOM!\")\n",
    "\tif time >= 3: \n",
    "\t\tprint(\"do you even listen anymore?\")\n",
    "\t\tbreak\n",
    "\t\t"
   ]
  }
 ],
 "metadata": {
  "kernelspec": {
   "display_name": "Python 3",
   "language": "python",
   "name": "python3"
  },
  "language_info": {
   "codemirror_mode": {
    "name": "ipython",
    "version": 3
   },
   "file_extension": ".py",
   "mimetype": "text/x-python",
   "name": "python",
   "nbconvert_exporter": "python",
   "pygments_lexer": "ipython3",
   "version": "3.8.5"
  }
 },
 "nbformat": 4,
 "nbformat_minor": 2
}
