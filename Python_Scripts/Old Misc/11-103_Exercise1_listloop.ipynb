{
 "cells": [
  {
   "cell_type": "code",
   "execution_count": 7,
   "metadata": {},
   "outputs": [
    {
     "name": "stdout",
     "output_type": "stream",
     "text": [
      "SUPERCALIFRAGILISTICEXPIALIDOCIOUS\n"
     ]
    }
   ],
   "source": [
    "#write code that adds all strings together and capitalize\\n\"\n",
    "\n",
    "result = ''\n",
    "\n",
    "sounds = [\"super\", \"cali\", \"fragil\", \"istic\", \"expi\", \"ali\", \"docious\"]\n",
    "for s in sounds:\n",
    "    result += s.upper()\n",
    "print(result)\n",
    "    \n",
    "    # or\\n\",\n",
    "    #result += s\\n\n",
    "    #result = result.upper()\"\n",
    " "
   ]
  },
  {
   "cell_type": "code",
   "execution_count": null,
   "metadata": {},
   "outputs": [],
   "source": []
  }
 ],
 "metadata": {
  "kernelspec": {
   "display_name": "Python 3",
   "language": "python",
   "name": "python3"
  },
  "language_info": {
   "codemirror_mode": {
    "name": "ipython",
    "version": 3
   },
   "file_extension": ".py",
   "mimetype": "text/x-python",
   "name": "python",
   "nbconvert_exporter": "python",
   "pygments_lexer": "ipython3",
   "version": "3.8.5"
  }
 },
 "nbformat": 4,
 "nbformat_minor": 2
}
