{
 "cells": [
  {
   "cell_type": "code",
   "execution_count": 17,
   "metadata": {},
   "outputs": [
    {
     "name": "stdout",
     "output_type": "stream",
     "text": [
      "Happy Birthday To You\n",
      "Happy Birthday To You\n",
      "Happy Birthday Dear Reginald\n",
      "Happy Birthday To You\n",
      "\n",
      "Happy Birthday To You\n",
      "Happy Birthday To You\n",
      "Happy Birthday Dear Reginald\n",
      "Happy Birthday To You\n",
      "\n",
      "Happy Birthday To You\n",
      "Happy Birthday To You\n",
      "Happy Birthday Dear Reginald\n",
      "Happy Birthday To You\n",
      "\n",
      "<function sing_happy_birthday at 0x000002717779CF70>\n"
     ]
    }
   ],
   "source": [
    "def sing_happy_birthday(name):\n",
    "    for x in range(0,3): #calls the song 3 times\n",
    "        print(\"Happy Birthday To You\")\n",
    "        print(\"Happy Birthday To You\")\n",
    "        print(f\"Happy Birthday Dear {name.capitalize()}\")\n",
    "        print(\"Happy Birthday To You\\n\")\n",
    "sing_happy_birthday('reginald')\n",
    "print(sing_happy_birthday)"
   ]
  },
  {
   "cell_type": "code",
   "execution_count": 3,
   "metadata": {},
   "outputs": [
    {
     "name": "stdout",
     "output_type": "stream",
     "text": [
      "oink\n"
     ]
    }
   ],
   "source": [
    "#Basic Return\n",
    "def speak_pig():\n",
    "    return 'oink'\n",
    "print(speak_pig())"
   ]
  },
  {
   "cell_type": "code",
   "execution_count": 5,
   "metadata": {},
   "outputs": [
    {
     "name": "stdout",
     "output_type": "stream",
     "text": [
      "[2, 4, 6, 8, 10, 12, 14, 16, 18, 20]\n"
     ]
    }
   ],
   "source": [
    "#Generate Even #s between 1-20\n",
    "def generate_evens():\n",
    "    return [x for x in range(1,21) if x%2 == 0]\n",
    "print(generate_evens())\n",
    "\n",
    "# #using a loop:\n",
    "# def generate_evens():\n",
    "#     result = []\n",
    "#     for x in range(1,21):\n",
    "#         if x % 2 == 0:\n",
    "#             result.append(x)\n",
    "#     return result\n",
    "# print(generate_evens())"
   ]
  },
  {
   "cell_type": "code",
   "execution_count": 7,
   "metadata": {},
   "outputs": [
    {
     "name": "stdout",
     "output_type": "stream",
     "text": [
      "16\n",
      "64\n"
     ]
    }
   ],
   "source": [
    "#Parameter (num) and Argument (4,8)\n",
    "\n",
    "def square(num):\n",
    "\treturn num * num\n",
    "\n",
    "print(square(4))\n",
    "print(square(8))"
   ]
  },
  {
   "cell_type": "code",
   "execution_count": 1,
   "metadata": {},
   "outputs": [
    {
     "name": "stdout",
     "output_type": "stream",
     "text": [
      "0.4\n",
      "2.5\n"
     ]
    }
   ],
   "source": [
    "def divide(num1, num2):\n",
    "\treturn num1/num2\n",
    "\n",
    "print(divide(2,5))\n",
    "print(divide(5,2))"
   ]
  },
  {
   "cell_type": "code",
   "execution_count": 9,
   "metadata": {},
   "outputs": [
    {
     "name": "stdout",
     "output_type": "stream",
     "text": [
      "WAKEUP!\n"
     ]
    }
   ],
   "source": [
    "#concatenation method\n",
    "\n",
    "def yell(word):\n",
    "    return word.upper() + \"!\"\n",
    "print(yell('wakeup'))"
   ]
  },
  {
   "cell_type": "code",
   "execution_count": 11,
   "metadata": {},
   "outputs": [
    {
     "name": "stdout",
     "output_type": "stream",
     "text": [
      "DO IT!\n"
     ]
    }
   ],
   "source": [
    "#f-string\n",
    "\n",
    "def yell(word):\n",
    "    return f\"{word.upper()}!\"\n",
    "print(yell('do it'))\n",
    "\n",
    "# #string format()) method:\n",
    "\n",
    "# def yell(word):\n",
    "#     return \"{}!\".format(word.upper())\n",
    "# print(yell('do it'))"
   ]
  },
  {
   "cell_type": "code",
   "execution_count": null,
   "metadata": {},
   "outputs": [],
   "source": [
    "def add(a,b):\n",
    "    return a+b\n",
    "\n",
    "def math(a,b,fn=add):\n",
    "    return fn(a,b)\n",
    "\n",
    "def subtract(a,b):\n",
    "    return a-b\n",
    "\n",
    "print(math(4,5)) #results in add(4,5) which is 9\n",
    "\n",
    "print(math(4,5,subtract)) #results in subtract(4,5) which is -1"
   ]
  },
  {
   "cell_type": "code",
   "execution_count": null,
   "metadata": {},
   "outputs": [],
   "source": [
    "#add.__doc__ \"\"\"this function does...this and this...\"\"\""
   ]
  },
  {
   "cell_type": "code",
   "execution_count": 10,
   "metadata": {},
   "outputs": [
    {
     "name": "stdout",
     "output_type": "stream",
     "text": [
      "woof\n"
     ]
    }
   ],
   "source": [
    "#print animal noises exercise:\n",
    "\n",
    "def speak1(animal=\"dog\"):\n",
    "    if animal == \"pig\":\n",
    "        return \"oink\"\n",
    "    elif animal == \"duck\":\n",
    "         return \"quack\"\n",
    "    elif animal == \"cat\":\n",
    "        return \"meow\"\n",
    "    elif animal == \"dog\": #default value\n",
    "        return \"woof\"\n",
    "    else:\n",
    "        return \"?\"\n",
    "    \n",
    "print(speak1()) #defaults to woof\n",
    "\n"
   ]
  },
  {
   "cell_type": "code",
   "execution_count": 21,
   "metadata": {},
   "outputs": [
    {
     "name": "stdout",
     "output_type": "stream",
     "text": [
      "?\n",
      "oink\n"
     ]
    }
   ],
   "source": [
    "# more compact version\n",
    "\n",
    "def speak2(animal=\"dog\"):\n",
    "    noises = {\"dog\": \"woof\", \"pig\": \"oink\", \"duck\": \"quack\", \"cat\": \"meow\"} #\n",
    "    noise = noises.get(animal)\n",
    "    if noise:\n",
    "        return noise\n",
    "    return \"?\"\n",
    "\n",
    "print(speak2('asdf'))\n",
    "print(speak2('pig'))"
   ]
  },
  {
   "cell_type": "code",
   "execution_count": 22,
   "metadata": {},
   "outputs": [
    {
     "name": "stdout",
     "output_type": "stream",
     "text": [
      "?\n",
      "meow\n"
     ]
    }
   ],
   "source": [
    "#even more compact version\n",
    "\n",
    "def speak3(animal='dog'):\n",
    "    noises = {'pig':'oink', 'duck':'quack', 'cat':'meow', 'dog':'woof'}\n",
    "    return noises.get(animal, '?')\n",
    "\n",
    "print(speak3('asdf'))\n",
    "print(speak3('cat'))"
   ]
  },
  {
   "cell_type": "code",
   "execution_count": 27,
   "metadata": {},
   "outputs": [
    {
     "name": "stdout",
     "output_type": "stream",
     "text": [
      "which number is greater?First is greater\n",
      "Second is greater\n"
     ]
    }
   ],
   "source": [
    "'''\n",
    "number_compare(1,1) # \"Numbers are equal\"\n",
    "number_compare(1,0) # \"First is greater\"\n",
    "number_compare(2,4) # \"Second is greater\"\n",
    "'''\n",
    "\n",
    "def number_compare(a,b):\n",
    "    if a > b:\n",
    "            return \"First is greater\"\n",
    "    elif a < b:\n",
    "            return \"Second is greater\"\n",
    "    return \"Numbers are equal\"\n",
    "\n",
    "print(f'which number is greater?{number_compare(9,8)}')\n",
    "print(number_compare(9,80))"
   ]
  },
  {
   "cell_type": "code",
   "execution_count": null,
   "metadata": {},
   "outputs": [],
   "source": [
    "\n",
    "'''\n",
    "number_compare(1,1) # \"Numbers are equal\"\n",
    "number_compare(1,0) # \"First is greater\"\n",
    "number_compare(2,4) # \"Second is greater\"\n",
    "'''\n",
    "\n",
    "def number_compare(a,b):\n",
    "    if a > b:\n",
    "            return \"First is greater\"\n",
    "    elif a < b:\n",
    "            return \"Second is greater\"\n",
    "    return \"Numbers are equal\"\n",
    "\n",
    "def speak(animal='dog'):\n",
    "    noises = {'pig':'oink', 'duck':'quack', 'cat':'meow', 'dog':'woof'}\n",
    "    return noises.get(animal, '?')\n",
    "\n",
    " #days of the week exercise:\n",
    "\n",
    " def return_day(num):\n",
    "    days = [\"Sunday\",\"Monday\", \"Tuesday\",\"Wednesday\",\"Thursday\",\"Friday\",\"Saturday\"]\n",
    "    # Check to see if num valid\n",
    "    if num > 0 and num <= len(days):\n",
    "        # use num - 1 because lists start at 0 \n",
    "        return days[num-1]\n",
    "    return None\n",
    "\n",
    "    '''\n",
    "number_compare(1,1) # \"Numbers are equal\"\n",
    "number_compare(1,0) # \"First is greater\"\n",
    "number_compare(2,4) # \"Second is greater\"\n",
    "'''\n",
    "\n",
    "def number_compare(a,b):\n",
    "    if a > b:\n",
    "            return \"First is greater\"\n",
    "    elif a < b:\n",
    "            return \"Second is greater\"\n",
    "    return \"Numbers are equal\"\n",
    "\n",
    "print(number_compare(1,2))\n",
    "\n",
    "\"\"\"In my solution, I use the built-in count()  \n",
    "to count the number of times letter  appears in string .  \n",
    "I also downcase both string  and letter  to make it case-insensitive \n",
    "(you could also upcase both instead)\n",
    "\n",
    "single_letter_count(\"Hello World\", \"h\") # 1\n",
    "single_letter_count(\"Hello World\", \"z\") # 0\n",
    "single_letter_count(\"HelLo World\", \"l\") # 3\n",
    "\"\"\"\n",
    "\n",
    "def single_letter_count(string,letter):\n",
    "   \treturn string.lower().count(letter.lower()) #by making return string.lower, ensure's count can count all letters regardless of case\n",
    "\n",
    "print(single_letter_count(\"booooooooo\", \"o\"))\n",
    "\n",
    "\n",
    "'''\n",
    "Exercise 167: \n",
    "list_manipulation([1,2,3], \"remove\", \"end\") # 3\n",
    "list_manipulation([1,2,3], \"remove\", \"beginning\") #  1\n",
    "list_manipulation([1,2,3], \"add\", \"beginning\", 20) #  [20,1,2,3]\n",
    "list_manipulation([1,2,3], \"add\", \"end\", 30) #  [1,2,3,30]\n",
    "'''\n",
    "\n",
    "def list_manipulation(collection, command, location, value=None):\n",
    "    if(command == \"remove\" and location == \"end\"):\n",
    "        return collection.pop()\n",
    "    elif(command == \"remove\" and location == \"beginning\"):\n",
    "        return collection.pop(0)\n",
    "    elif(command == \"add\" and location == \"beginning\"):\n",
    "        collection.insert(0,value)\n",
    "        return collection\n",
    "    elif(command == \"add\" and location == \"end\"):\n",
    "        collection.append(value)\n",
    "        return collection\n",
    "    \n",
    "list_manipulation([1,2,3], \"add\", \"beginning\", 20)\n",
    "\n",
    "'''\n",
    "is_palindrome('testing') # False\n",
    "is_palindrome('tacocat') # True\n",
    "is_palindrome('hannah') # True\n",
    "is_palindrome('robert') # False\n",
    "is_palindrome('amanaplanacanalpanama') # True\n",
    "'''\n",
    "\n",
    "def is_palindrome(string):\n",
    "    stripped = string.replace(\" \", \"\")\n",
    "    return stripped == stripped[::-1]\n",
    "\n",
    "is_palindrome(\"123 456 789 8 765 432 1\")\n",
    "\n",
    "'''\n",
    "exercise 170\n",
    "frequency([1,2,3,4,4,4], 4) # 3\n",
    "frequency([True, False, True, True], False) # 1\n",
    "'''\n",
    "\n",
    "def frequency(list1, search_term):\n",
    "    return list1.count(search_term)\n",
    "\n",
    " '''\n",
    " multiply only even numbers\n",
    " exercise 171\n",
    " '''\n",
    "\n",
    "def multiply_even_numbers(lst):\n",
    "    total = 1\n",
    "    for val in lst:\n",
    "        if val % 2 == 0:\n",
    "            total = total * val\n",
    "    return total\n",
    "\n",
    "'''\n",
    "capitalize(\"tim\") # \"Tim\"\n",
    "capitalize(\"matt\") # \"Matt\"\n",
    "'''\n",
    "\n",
    "def capitalize(word):\n",
    "    return word[0:1:].upper() + word[1::]"
   ]
  }
 ],
 "metadata": {
  "kernelspec": {
   "display_name": "Python 3",
   "language": "python",
   "name": "python3"
  },
  "language_info": {
   "codemirror_mode": {
    "name": "ipython",
    "version": 3
   },
   "file_extension": ".py",
   "mimetype": "text/x-python",
   "name": "python",
   "nbconvert_exporter": "python",
   "pygments_lexer": "ipython3",
   "version": "3.8.5"
  }
 },
 "nbformat": 4,
 "nbformat_minor": 4
}
