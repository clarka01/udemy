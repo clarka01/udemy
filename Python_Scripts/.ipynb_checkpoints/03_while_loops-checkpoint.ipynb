{
 "cells": [
  {
   "cell_type": "markdown",
   "metadata": {},
   "source": [
    "Continues to ask for user input until the user types 'bananas'"
   ]
  },
  {
   "cell_type": "code",
   "execution_count": 1,
   "metadata": {},
   "outputs": [
    {
     "name": "stdout",
     "output_type": "stream",
     "text": [
      "whats the secret password?hello\n",
      "WRONG!\n",
      "whats the secret password?bananas\n",
      "CORRECT!\n"
     ]
    }
   ],
   "source": [
    "msg = input(\"whats the secret password?\")\n",
    "while msg != \"bananas\":\n",
    "\tprint(\"WRONG!\")\n",
    "\tmsg = input(\"whats the secret password?\")\n",
    "print(\"CORRECT!\")"
   ]
  },
  {
   "cell_type": "code",
   "execution_count": 2,
   "metadata": {},
   "outputs": [
    {
     "name": "stdout",
     "output_type": "stream",
     "text": [
      "1\n",
      "2\n",
      "3\n",
      "4\n",
      "5\n",
      "6\n",
      "7\n",
      "8\n",
      "9\n",
      "10\n"
     ]
    }
   ],
   "source": [
    "#exercise \n",
    "\n",
    "num = 1\n",
    "\n",
    "while num < 11:\n",
    "\tprint(num)\n",
    "\tnum += 1"
   ]
  },
  {
   "cell_type": "code",
   "execution_count": 5,
   "metadata": {},
   "outputs": [
    {
     "name": "stdout",
     "output_type": "stream",
     "text": [
      "😀\n",
      "😀😀\n",
      "😀😀😀\n",
      "😀😀😀😀\n",
      "😀😀😀😀😀\n",
      "😀😀😀😀😀😀\n",
      "😀😀😀😀😀😀😀\n",
      "😀😀😀😀😀😀😀😀\n",
      "😀😀😀😀😀😀😀😀😀\n",
      "😀😀😀😀😀😀😀😀😀😀\n",
      "😀\n",
      "😀😀\n",
      "😀😀😀\n",
      "😀😀😀😀\n",
      "😀😀😀😀😀\n",
      "😀😀😀😀😀😀\n",
      "😀😀😀😀😀😀😀\n",
      "😀😀😀😀😀😀😀😀\n",
      "😀😀😀😀😀😀😀😀😀\n",
      "😀😀😀😀😀😀😀😀😀😀\n"
     ]
    }
   ],
   "source": [
    "#with for loop\n",
    "\n",
    "for x in range(2):\n",
    "\tfor num in range(1,11): \n",
    "\t\tprint(\"\\U0001f600\" * num)"
   ]
  },
  {
   "cell_type": "code",
   "execution_count": 7,
   "metadata": {},
   "outputs": [
    {
     "name": "stdout",
     "output_type": "stream",
     "text": [
      "😀\n",
      "😀😀\n",
      "😀😀😀\n",
      "😀😀😀😀\n",
      "😀😀😀😀😀\n",
      "😀😀😀😀😀😀\n",
      "😀😀😀😀😀😀😀\n",
      "😀😀😀😀😀😀😀😀\n",
      "😀😀😀😀😀😀😀😀😀\n",
      "😀😀😀😀😀😀😀😀😀😀\n"
     ]
    }
   ],
   "source": [
    "# with while \n",
    "\n",
    "times = 1\n",
    "while times < 11:\n",
    "\tprint(\"\\U0001f600\" * times)\n",
    "\ttimes += 1"
   ]
  },
  {
   "cell_type": "code",
   "execution_count": 11,
   "metadata": {},
   "outputs": [
    {
     "name": "stdout",
     "output_type": "stream",
     "text": [
      "😀\n",
      "😀😀\n",
      "😀😀😀\n",
      "😀😀😀😀\n",
      "😀😀😀😀😀\n",
      "😀😀😀😀😀😀\n",
      "😀😀😀😀😀😀😀\n",
      "😀😀😀😀😀😀😀😀\n",
      "😀😀😀😀😀😀😀😀😀\n",
      "😀😀😀😀😀😀😀😀😀😀\n"
     ]
    }
   ],
   "source": [
    "#Without string multiplication - ugly solution\n",
    "count = 1\n",
    "smileys = \"\"\n",
    "\n",
    "for num in range(1,11):\n",
    "    while count <= num:\n",
    "        smileys += \"\\U0001f600\"\n",
    "        count += 1\n",
    "        print(smileys)"
   ]
  },
  {
   "cell_type": "code",
   "execution_count": 12,
   "metadata": {},
   "outputs": [
    {
     "name": "stdout",
     "output_type": "stream",
     "text": [
      "Say Something: 5\n",
      "5\n",
      "4\n",
      "4\n",
      "stop copying me\n",
      "UGH FINE YOU WIN, BROTHER!\n"
     ]
    }
   ],
   "source": [
    "msg = input(\"Say Something: \")\n",
    "\n",
    "# while msg != \"stop copying me\":\n",
    "# \tprint(msg)\n",
    "# \tmsg = input()\n",
    "# print(\"UGH FINE YOU WIN, BROTHER!\")\n",
    "\n",
    "while msg != \"stop copying me\":\n",
    "    msg = input(f\"{msg}\\n\")\n",
    "print(\"UGH FINE YOU WIN, BROTHER!\")"
   ]
  },
  {
   "cell_type": "code",
   "execution_count": 13,
   "metadata": {},
   "outputs": [
    {
     "name": "stdout",
     "output_type": "stream",
     "text": [
      "How many times do I have to tell you? 5\n",
      "CLEAN UP YOUR ROOM!\n",
      "CLEAN UP YOUR ROOM!\n",
      "CLEAN UP YOUR ROOM!\n",
      "do you even listen anymore?\n"
     ]
    }
   ],
   "source": [
    "# while True:\n",
    "#     command = input(\"Type 'exit' to exit: \")\n",
    "#     if (command == \"exit\"):\n",
    "#         break\n",
    "\n",
    "# for x in range(1, 101):\n",
    "#     print(x)\n",
    "#     if x == 3:\n",
    "#         break\n",
    "\n",
    "times = int(input(\"How many times do I have to tell you? \"))#integer added to input verbiage\n",
    "for time in range(times): # of times defines the range (2 = 3, 9 = 10, etc. becuase it starts at 0, not 1)\n",
    "    print(\"CLEAN UP YOUR ROOM!\") #prints the amount of times in the range until loops amount of times as number below\n",
    "    if time >= 2: #really >=3 times\n",
    "        print(\"do you even listen anymore?\") #if 3 or more times, prints do you even listen anymore\n",
    "        break\n",
    "\n",
    "## syntax of example:\n",
    "# from random import randint\n",
    "# number = 0\n",
    "# i=0\n",
    "# while number != 5:\n",
    "# \ti += 1\n",
    "# \tnumber =randint(1,10)"
   ]
  },
  {
   "cell_type": "code",
   "execution_count": null,
   "metadata": {},
   "outputs": [],
   "source": [
    "#Guessing Game\n",
    "\n",
    "import random\n",
    "\n",
    "random_number = random.randint(1,10)  # numbers 1 - 10 (randint is inclusive)\n",
    "guess = None #None provides that guess doesn't have a defined value until loop starts\n",
    "\n",
    "while guess != random_number:\n",
    "\tguess = input(\"Pick a number from 1 to 10: \")\n",
    "\tguess = int(guess)\n",
    "\tif guess < random_number:\n",
    "\t\tprint(\"TOO LOW!\")\n",
    "\telif guess > random_number:\n",
    "\t\tprint(\"TOO HIGH!\")\n",
    "\telse:\n",
    "\t\tprint(\"YOU WON!!!!\")\n",
    "\n",
    "print(random_number)"
   ]
  },
  {
   "cell_type": "code",
   "execution_count": null,
   "metadata": {},
   "outputs": [],
   "source": [
    "#breaks\n",
    "\n",
    "while True:\n",
    "    command = input(\"Type 'exit' to exit: \")\n",
    "    if (command == \"exit\"):\n",
    "        break\n",
    "\n",
    "# for x in range(1, 101):\n",
    "#     print(x)\n",
    "#     if x == 3:\n",
    "#         break"
   ]
  },
  {
   "cell_type": "code",
   "execution_count": 14,
   "metadata": {},
   "outputs": [
    {
     "name": "stdout",
     "output_type": "stream",
     "text": [
      "Pick a number from 1 to 10: 5\n",
      "TOO LOW!\n",
      "Pick a number from 1 to 10: 6\n",
      "TOO LOW!\n",
      "Pick a number from 1 to 10: 7\n",
      "YOU WON!!!!\n",
      "Do you want to play again? (y/n) y\n",
      "Pick a number from 1 to 10: 1\n",
      "TOO LOW!\n",
      "Pick a number from 1 to 10: 2\n",
      "TOO LOW!\n",
      "Pick a number from 1 to 10: 3\n",
      "YOU WON!!!!\n",
      "Do you want to play again? (y/n) n\n",
      "Thank you for playing!\n"
     ]
    }
   ],
   "source": [
    "#Guessing Game, Breaks example\n",
    "\n",
    "import random\n",
    "\n",
    "random_number = random.randint(1,10)  # numbers 1 - 10\n",
    "# can remove this because of true statement 'guess = None' but would add because code expects to return number (see line )\n",
    "\n",
    "while True: #this will loop forever as long as player wants to play again\n",
    "\tguess = input(\"Pick a number from 1 to 10: \")\n",
    "\tguess = int(guess)\n",
    "\tif guess < random_number:\n",
    "\t\tprint(\"TOO LOW!\")\n",
    "\telif guess > random_number:\n",
    "\t\tprint(\"TOO HIGH!\")\n",
    "\telse:\n",
    "\t\tprint(\"YOU WON!!!!\")\n",
    "\t\tplay_again = input(\"Do you want to play again? (y/n) \")\n",
    "\t\tif play_again == \"y\":\n",
    "\t\t\trandom_number = random.randint(1,10)  # numbers 1 - 10\n",
    "\t\t\tguess = None\n",
    "\t\telse:\n",
    "\t\t\tprint(\"Thank you for playing!\")\n",
    "\t\t\tbreak # this version loops forever"
   ]
  },
  {
   "cell_type": "code",
   "execution_count": null,
   "metadata": {},
   "outputs": [],
   "source": [
    "from random import randint\n",
    "player_wins = 0\n",
    "computer_wins = 0\n",
    "winning_score = 3 # just have to change this to determine best of winner\n",
    "\n",
    "while player_wins < winning_score and computer_wins < winning_score: # this will add up the scores and compare to winning_score\n",
    "\tprint(f'Player Score: {player_wins} Computer Score: {computer_wins}')\n",
    "\n",
    "\t#-------------------------------------------must use this prior to using random ints\n",
    "\t#opening text for game\n",
    "\tprint(\"rock...\")\n",
    "\tprint(\"paper...\")\n",
    "\tprint(\"scissors...\")\n",
    "\tprint(\"man vs machine\")\n",
    "\n",
    "\t#-----------------------------------------player input command\n",
    "\tplayer=input ('p1 make move').lower()\n",
    "\t\tif player ==\"quit\" or player ==\"q\":\n",
    "\t\t\tbreak\t\n",
    "\t#----------------------------------------computer input/Random number generation:\n",
    "\trand_num = randint(0,2)\n",
    "\tif rand_num == 0:\n",
    "\t\tcomputer = \"rock\"\n",
    "\telif rand_num == 1:\n",
    "\t\tcomputer = \"paper\"\n",
    "\telse:\n",
    "\t\tcomputer=\"scissors\"\n",
    "\t#----------------------------------------function of computer choice (above) based on randint:\n",
    "\tprint(f\"computer plays {computer}\" )\n",
    "\n",
    "\t#------------------------------------conditional variables to determine winner:\n",
    "\tif player==computer:\n",
    "\t\tprint('tie')\n",
    "\telif player== \"rock\":\n",
    "\t\tif computer==\"scissors\":\n",
    "\t\t\tprint('man wins')\n",
    "\t\t\tplayer_wins +=1\n",
    "\t\telse:\n",
    "\t\t\tprint('comp wins')\n",
    "\t\t\tcomputer_wins +=1\n",
    "\telif player== \"paper\":\n",
    "\t\tif computer==\"rock\":\n",
    "\t\t\tprint('man wins')\n",
    "\t\t\tplayer_wins +=1\n",
    "\t\telse:\n",
    "\t\t\tprint('comp wins')\n",
    "\t\t\tcomputer_wins +=1\n",
    "\telif player==\"scissors\":\n",
    "\t\tif computer==\"paper\":\n",
    "\t\t\tprint('man wins')\n",
    "\t\t\tplayer_wins +=1\n",
    "\t\telse:\n",
    "\t\t\tprint('comp wins')\n",
    "\t\t\tcomputer_wins +=1\n",
    "\telse:\n",
    "\t\tprint(\"something's wrong\")\n",
    "\n",
    "if player_wins > computer_wins: \n",
    "\tprint(\"congrats!\")\t\t\n",
    "elif player_wins == computer_wins\n",
    "\tprint(\"its a tie\")\n",
    "else:\n",
    "\tprint(\"oh no\")\n",
    "print(f'FINAL SCORES: Player Score: {player_wins} Computer Score: {computer_wins}')\n"
   ]
  }
 ],
 "metadata": {
  "kernelspec": {
   "display_name": "Python 3",
   "language": "python",
   "name": "python3"
  },
  "language_info": {
   "codemirror_mode": {
    "name": "ipython",
    "version": 3
   },
   "file_extension": ".py",
   "mimetype": "text/x-python",
   "name": "python",
   "nbconvert_exporter": "python",
   "pygments_lexer": "ipython3",
   "version": "3.8.5"
  }
 },
 "nbformat": 4,
 "nbformat_minor": 2
}
