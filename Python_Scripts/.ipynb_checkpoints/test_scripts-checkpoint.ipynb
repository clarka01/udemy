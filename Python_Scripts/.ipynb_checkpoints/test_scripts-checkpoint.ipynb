{
 "cells": [
  {
   "cell_type": "code",
   "execution_count": 1,
   "metadata": {},
   "outputs": [
    {
     "name": "stdout",
     "output_type": "stream",
     "text": [
      "times tell you? 4\n",
      "time 1: clean up your room\n",
      "time 2: clean up your room\n",
      "time 3: clean up your room\n",
      "time 4: clean up your room\n"
     ]
    }
   ],
   "source": [
    "times = input(\"times tell you? \")\n",
    "times = int(times)\n",
    "\n",
    "for repeats in range(times):\n",
    "\tprint(f\"time {repeats+1}: clean up your room\")"
   ]
  },
  {
   "cell_type": "code",
   "execution_count": null,
   "metadata": {},
   "outputs": [],
   "source": []
  }
 ],
 "metadata": {
  "kernelspec": {
   "display_name": "Python 3",
   "language": "python",
   "name": "python3"
  },
  "language_info": {
   "codemirror_mode": {
    "name": "ipython",
    "version": 3
   },
   "file_extension": ".py",
   "mimetype": "text/x-python",
   "name": "python",
   "nbconvert_exporter": "python",
   "pygments_lexer": "ipython3",
   "version": "3.8.5"
  }
 },
 "nbformat": 4,
 "nbformat_minor": 4
}
