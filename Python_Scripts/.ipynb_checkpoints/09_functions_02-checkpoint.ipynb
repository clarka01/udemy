{
 "cells": [
  {
   "cell_type": "code",
   "execution_count": 6,
   "metadata": {},
   "outputs": [
    {
     "name": "stdout",
     "output_type": "stream",
     "text": [
      "True\n"
     ]
    }
   ],
   "source": [
    "##### *args (\"star-args\"); take remaining arguments and turn into a tuple\n",
    "\n",
    "def contains_purple(*args):\n",
    "    if 'purple' in args:\n",
    "        return True\n",
    "    return False\n",
    "    \n",
    "print(contains_purple(25, \"purple\"))"
   ]
  },
  {
   "cell_type": "code",
   "execution_count": 7,
   "metadata": {},
   "outputs": [
    {
     "name": "stdout",
     "output_type": "stream",
     "text": [
      "dict_items([('brand', 'Ford'), ('model', 'Mustang'), ('year', 1964)])\n"
     ]
    }
   ],
   "source": [
    "### **kwargs (\"kwuhargs\"); gathers remaining arguments and passes them into dictionary\n",
    "\n",
    "car = {\n",
    "  \"brand\": \"Ford\",\n",
    "  \"model\": \"Mustang\",\n",
    "  \"year\": 1964\n",
    "}\n",
    "\n",
    "x = car.items()\n",
    "\n",
    "print(x)"
   ]
  },
  {
   "cell_type": "code",
   "execution_count": 32,
   "metadata": {},
   "outputs": [
    {
     "name": "stdout",
     "output_type": "stream",
     "text": [
      "manchild\n"
     ]
    }
   ],
   "source": [
    "def combine_words(word,**kwargs):\n",
    "    if 'prefix' in kwargs:\n",
    "        return kwargs['prefix'] + word\n",
    "    elif 'suffix' in kwargs:\n",
    "        return word + kwargs['suffix']\n",
    "    return word\n",
    "\n",
    "print(combine_words('man',suffix = 'child')) #kwargs is used because 'suffix='child'' is a kw pair"
   ]
  },
  {
   "cell_type": "code",
   "execution_count": 38,
   "metadata": {},
   "outputs": [
    {
     "name": "stdout",
     "output_type": "stream",
     "text": [
      "[1, 2, (3,), 'Colt', {'last': 'steel', 'dog': 'shepherd'}]\n"
     ]
    }
   ],
   "source": [
    "#ordering parameters:\n",
    "\n",
    "def display_info(a, b, *args, instructor=\"Colt\", **kwargs):\n",
    "    return [a, b, args, instructor, kwargs]\n",
    "print(display_info(1,2,3, last='steel', dog='shepherd')) #args returns a tuple\n",
    "\n",
    "# 1. parameters, 2. *args, 3. default parameters, 4.**kwargs"
   ]
  },
  {
   "cell_type": "code",
   "execution_count": 61,
   "metadata": {},
   "outputs": [
    {
     "name": "stdout",
     "output_type": "stream",
     "text": [
      "1\n",
      "14\n"
     ]
    }
   ],
   "source": [
    "# argument unpacking using *args **kwargs\n",
    "\n",
    "def count_sevens(*args):\n",
    "    return args.count(7)\n",
    "\n",
    "nums = [90,1,35,67,89,20,3,1,2,3,4,5,6,9,34,46,57,68,79,12,23,34,55,1,90,54,34,76,8,23,34,45,56,67,78,12,23,34,45,56,67,768,23,4,5,6,7,8,9,12,34,14,15,16,17,11,7,11,8,4,6,2,5,8,7,10,12,13,14,15,7,8,7,7,345,23,34,45,56,67,1,7,3,6,7,2,3,4,5,6,7,8,9,8,7,6,5,4,2,1,2,3,4,5,6,7,8,9,0,9,8,7,8,7,6,5,4,3,2,1,7]\n",
    "\n",
    "result1 = count_sevens(1,4,7) #counts only arguments in the \n",
    "result2 = count_sevens(*nums) #counts through all 121 arguments\n",
    "\n",
    "print(result1)\n",
    "print(result2)\n"
   ]
  },
  {
   "cell_type": "code",
   "execution_count": null,
   "metadata": {},
   "outputs": [],
   "source": [
    "# Calculate Walkthrough\n",
    "# This solution uses dict.get() a lot. dict.get('first')  \n",
    "# will return the value of 'first' if it exists, otherwise \n",
    "# it returns None.  However, you can specify a second argument \n",
    "# which will replace None as the default value. I use that in \n",
    "# this solution a bunch of times.\n",
    "\n",
    "# 1. I defined a dictionary called operation_lookup  that maps a string like \"add\" to an actual mathematical operation \n",
    "#     involving the values of 'first' and 'second'\n",
    "# 2. I create a boolean variable called is_float, which is True if kwargs contains 'make_float', otherwise it's false\n",
    "# 3. Then I lookup the correct value from the operation_lookup dict using the operation that was specified in kwargs\n",
    "# 4. Basically, turning something like \"subtract\" into:kwargs.get('first', 0) - kwargs.get('second', 0) \n",
    "#    which in turns simplifies to a number\n",
    "\n",
    "# 5. I store the result in a variable called operation_value \n",
    "# 6. I return a string containing either the specified message or the default 'The result is' string.  \n",
    "# 7. Whether operation_value  is interpolated as a float or int is determined by the is_float  variable.\n",
    "\n",
    "# Note: this solution will divide by zero if a 2nd argument isn't provided for divide.  You may want to \n",
    "#     change the default value to 1.  We learn how to handle ZeroDivisionErrors later on in the course.  \n",
    "#     Thanks, Scott for pointing out the issue!"
   ]
  },
  {
   "cell_type": "code",
   "execution_count": 75,
   "metadata": {},
   "outputs": [
    {
     "name": "stdout",
     "output_type": "stream",
     "text": [
      "You just divided 0.4\n",
      "The result is 14\n"
     ]
    }
   ],
   "source": [
    "'''\n",
    "calculate(make_float=False, operation='add', message='You just added', first=2, second=4) # \"You just added 6\"\n",
    "calculate(make_float=True, operation='divide', first=3.5, second=5) # \"The result is 0.7\"\n",
    "'''\n",
    "\n",
    "def calculate(**kwargs):\n",
    "    operation_lookup = {\n",
    "        'add': kwargs.get('first', 0) + kwargs.get('second', 0),\n",
    "        'subtract': kwargs.get('first', 0) - kwargs.get('second', 0),\n",
    "        'divide': kwargs.get('first', 0) / kwargs.get('second', 0),\n",
    "        'multiply': kwargs.get('first', 0) * kwargs.get('second', 0)\n",
    "    }\n",
    "    \n",
    "    is_float = kwargs.get('make_float', False)            #returns true, unless make_float doesn't exist\n",
    "    operation_value = operation_lookup[kwargs.get('operation', '')] #causes error if nothing entered\n",
    "    if is_float:                                         #checks if truthy, defaults to false...\n",
    "        final = \"{} {}\".format(kwargs.get('message','The result is'), float(operation_value)) \n",
    "                                                        #default message is \"the result is'\n",
    "    else:\n",
    "        final = \"{} {}\".format(kwargs.get('message','The result is'), int(operation_value))\n",
    "    return final\n",
    "\n",
    "print(calculate(make_float=True, operation='divide', message='You just divided', first=4, second=10))\n",
    "print(calculate(operation='add', first=4, second=10))\n",
    "\n",
    "#https://www.w3schools.com/python/ref_dictionary_get.asp\n",
    "\n"
   ]
  },
  {
   "cell_type": "code",
   "execution_count": null,
   "metadata": {},
   "outputs": [],
   "source": [
    "########################################################OLD NOTES....\n",
    "\n",
    "\n",
    "# def feed_me(*stuff):\n",
    "# \tfor thing in stuff:\n",
    "# \t\tprint(f\"YUMMY I EAT {thing}\")\n",
    "# feed_me(\"apple\", \"tire\", \"shoe\", \"salmon\")\n",
    "\n",
    "''' *args'''\n",
    "\n",
    "def contains_purple(*args):\n",
    "    if \"purple\" in args:\n",
    "        return True\n",
    "    return False\n",
    "\n",
    "'''Retuns 3 lines\n",
    "'''\n",
    "\n",
    "def fav_colors(**kwargs):\n",
    "\tfor person, color in kwargs.items():\n",
    "\t\tprint(f\"{person}'s favorite color is {color}\")\n",
    "\n",
    "fav_colors(colt=\"purple\", ruby=\"red\", ethel=\"teal\")\n",
    "fav_colors(colt=\"purple\", ruby=\"red\", ethel=\"teal\", ted=\"blue\")\n",
    "fav_colors(colt=\"royal deep amazing purple\")\n",
    "\n",
    "'''\n",
    "checks multiple values are true\n",
    "'''\n",
    "\n",
    "def special_greeting(**kwargs):\n",
    "    if \"David\" in kwargs and kwargs[\"David\"] == \"special\":\n",
    "        return \"You get a special greeting David!\"\n",
    "    elif \"David\" in kwargs:\n",
    "        return f\"{kwargs['David']} David!\"\n",
    "\n",
    "    return \"Not sure who this is...\"\n",
    "\n",
    "# print(special_greeting(David='Hello')) # Hello David!\n",
    "# print(special_greeting(Bob='hello')) # Not sure who this is...\n",
    "# print(special_greeting(David='special')) # You get a special greeting David!\n",
    "\n",
    "print(special_greeting(Heather=\"hello\", David=\"special\"))\n",
    "\n",
    "'''retuns prefix or suffix of word'''\n",
    "\n",
    "def combine_words(word,**kwargs):\n",
    "    if 'prefix' in kwargs:\n",
    "        return kwargs['prefix'] + word\n",
    "    elif 'suffix' in kwargs:\n",
    "        return word + kwargs['suffix']\n",
    "    return word\n",
    "\n",
    "\n",
    " combine_words(child, prefix=\"man\")\n",
    "\n",
    " #ARGS ORDER; SECTION 180:\n",
    "\n",
    " def display_info(a, b, *args, instructor=\"Colt\", **kwargs):\n",
    "  # return [a, b, args, instructor, kwargs]\n",
    "  print(type(args))\n",
    "\n",
    "print(display_info(1, 2, 3, last_name=\"Steele\", job=\"Instructor\"))\n",
    "\n",
    "# a - 1\n",
    "# b - 2\n",
    "# args (3)\n",
    "# instructor - \"Colt\"\n",
    "# kwargs - {'last_name': \"Steele\", \"job\": \"Instructor\"}\n",
    "\n",
    "[1, 2, (3,), 'Colt', {'last_name': 'Steele', 'job': 'Instructor'}]\n",
    "\n",
    "\n",
    "'''UNPACKING DICTIONARIES SECTION 183'''\n",
    "def display_names(first, second):\n",
    "    print(f\"{first} says hello to {second}\")\n",
    "\n",
    "names = {\"first\": \"Colt\", \"second\": \"Rusty\"}\n",
    "\n",
    "display_names(names) # nope..\n",
    "display_names(**names)  # yup!\n",
    "\n",
    "def add_and_multiply_numbers(a,b,c,**kwargs):\n",
    "    print(a + b * c)\n",
    "    print(\"OTHER STUFF....\")\n",
    "    print(kwargs)\n",
    "\n",
    "data = dict(a=1,b=2,c=3,d=55,name=\"Tony\")\n",
    "\n",
    "add_and_multiply_numbers(**data, cat=\"blue\") # 7 #will add cat=blue at end\n",
    "\n",
    "\n",
    "#GO BACK AND DO SECTION 19 FINAL \n",
    "\n",
    "'''\n",
    "calculate(make_float=False, operation='add', message='You just added', first=2, second=4) # \"You just added 6\"\n",
    "calculate(make_float=True, operation='divide', first=3.5, second=5) # \"The result is 0.7\"\n",
    "'''\n",
    "\n",
    "def calculate(**kwargs):\n",
    "    operation_lookup = {\n",
    "        'add': kwargs.get('first', 0) + kwargs.get('second', 0),\n",
    "        'subtract': kwargs.get('first', 0) - kwargs.get('second', 0),\n",
    "        'divide': kwargs.get('first', 0) / kwargs.get('second', 0),\n",
    "        'multiply': kwargs.get('first', 0) * kwargs.get('second', 0)\n",
    "    }\n",
    "    is_float = kwargs.get('make_float', False)\n",
    "    operation_value = operation_lookup[kwargs.get('operation', '')]\n",
    "    if is_float:\n",
    "        final = \"{} {}\".format(kwargs.get('message','The result is'), float(operation_value))\n",
    "    else:\n",
    "        final = \"{} {}\".format(kwargs.get('message','The result is'), int(operation_value))\n",
    "    return final\n",
    "\n",
    "    "
   ]
  }
 ],
 "metadata": {
  "kernelspec": {
   "display_name": "Python 3",
   "language": "python",
   "name": "python3"
  },
  "language_info": {
   "codemirror_mode": {
    "name": "ipython",
    "version": 3
   },
   "file_extension": ".py",
   "mimetype": "text/x-python",
   "name": "python",
   "nbconvert_exporter": "python",
   "pygments_lexer": "ipython3",
   "version": "3.8.5"
  }
 },
 "nbformat": 4,
 "nbformat_minor": 4
}
