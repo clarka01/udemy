{
 "cells": [
  {
   "cell_type": "code",
   "execution_count": 2,
   "metadata": {},
   "outputs": [
    {
     "name": "stdout",
     "output_type": "stream",
     "text": [
      "Blue\n"
     ]
    }
   ],
   "source": [
    "#dictonary syntax \n",
    "\n",
    "user_info = {\"name\": \"Blue\", \"age\": 10, \"email\": \"blue@gmail.com\"} \n",
    "\n",
    "user_info['name']"
   ]
  },
  {
   "cell_type": "code",
   "execution_count": 3,
   "metadata": {},
   "outputs": [
    {
     "name": "stdout",
     "output_type": "stream",
     "text": [
      "blue@gmail.com\n"
     ]
    }
   ],
   "source": [
    "#dict() syntax:\n",
    "\n",
    "user_info = dict(name= \"Blue\", age= 10, email = \"blue@gmail.com\")\n",
    "\n",
    "print(user_info['email']) #print() gets rid of \"\""
   ]
  },
  {
   "cell_type": "code",
   "execution_count": 5,
   "metadata": {},
   "outputs": [
    {
     "name": "stdout",
     "output_type": "stream",
     "text": [
      "Neil Young\n"
     ]
    }
   ],
   "source": [
    "#print first & last name\n",
    "\n",
    "artist = {\n",
    "    \"first\": \"Neil\",\n",
    "    \"last\": \"Young\",\n",
    "}\n",
    "\n",
    "full_name = artist['first'] + \" \" + artist['last']\n",
    "# or w/ formatting: full_name = (f\"{artist['first']} {artist['last']}\")\n",
    "\n",
    "print(full_name)"
   ]
  },
  {
   "cell_type": "code",
   "execution_count": 119,
   "metadata": {},
   "outputs": [
    {
     "name": "stdout",
     "output_type": "stream",
     "text": [
      "436.74\n"
     ]
    }
   ],
   "source": [
    "#add together all donations using loop\n",
    "\n",
    "donations = dict(sam=25.0, lena=88.99, chuck=13.0, linus=99.5, stan=150.0, lisa=50.25, harrison=10.0)\n",
    "\n",
    "total_donations = 0\n",
    "\n",
    "for v in donations.values():\n",
    "    total_donations += v\n",
    "print(total_donations) #ensure NO INDENT or will print each v rather than sum\n",
    "\n",
    "#Advanced version 1 & 2\n",
    "#1: total_donations = sum(donation for donation in donations.values())\n",
    "#2: total_donations=sum(donations.values())\n",
    "    "
   ]
  },
  {
   "cell_type": "code",
   "execution_count": 39,
   "metadata": {},
   "outputs": [
    {
     "name": "stdout",
     "output_type": "stream",
     "text": [
      "[1, 2, 'd is not here', \"no 'e' here\"]\n"
     ]
    }
   ],
   "source": [
    "#GET function returns value in Value from pair\n",
    "\n",
    "d = dict(a=1,b=2,c=3)\n",
    "#d['a'] #1\n",
    "#d['d'] #will give error\n",
    "\n",
    "results=[d.get('a'), d.get('b'), d.get('d', \"d is not here\"), d.get('e', \"no \\'e\\' here\")] \n",
    "# returns \"None\" by default if value doesn't exists, or can enter value\n",
    "\n",
    "print(results)\n"
   ]
  },
  {
   "cell_type": "code",
   "execution_count": 83,
   "metadata": {},
   "outputs": [
    {
     "name": "stdout",
     "output_type": "stream",
     "text": [
      "0 morning buns left\n"
     ]
    }
   ],
   "source": [
    "#the in version:\n",
    "\n",
    "from random import choice #like randint, but for strings?\n",
    "\n",
    "food = choice([\"cheese pizza\", \"quiche\",\"morning bun\",\"gummy bears\",\"tea cake\"])\n",
    " \n",
    "bakery_stock = {\n",
    "    \"almond croissant\" : 12,\n",
    "    \"toffee cookie\": 3,\n",
    "    \"morning bun\": 0,\n",
    "    \"chocolate chunk cookie\": 9,\n",
    "    \"tea cake\": 25\n",
    "}\n",
    "\n",
    "if food in bakery_stock:\n",
    "    print(f\"{bakery_stock[food]} {food}s left\") #[food] here acts like the the key \"bakery_stock[morning bun]: #1\"\n",
    "else:\n",
    "    print(f\"We don't make {food}\")\n"
   ]
  },
  {
   "cell_type": "code",
   "execution_count": 85,
   "metadata": {},
   "outputs": [
    {
     "name": "stdout",
     "output_type": "stream",
     "text": [
      "0 morning bun left\n"
     ]
    }
   ],
   "source": [
    "#Here's the d.get() version\n",
    "\n",
    "from random import choice #like randint, but for strings?\n",
    "food = choice([\"cheese pizza\", \"morning bun\",\"gummy bears\",\"tea cake\"])\n",
    " \n",
    "bakery_stock = {\n",
    "    \"almond croissant\" : 12,\n",
    "    \"toffee cookie\": 3,\n",
    "    \"morning bun\": 0,\n",
    "    \"chocolate chunk cookie\": 9,\n",
    "    \"tea cake\": 25\n",
    "}\n",
    "\n",
    "quantity = bakery_stock.get(food) #retreives value of matching food pair (retreived randomly from food) if matches\n",
    "                                    #get(food,\"none\") # \"none left\" becuase it's truthy; \n",
    "                                    #get(food,0), \"we don't make that\" because falsey; get(food,\"0\") # \"0 left\"\n",
    "if quantity:\n",
    "    print(f\"{quantity} {food} left\")\n",
    "# elif quantity==0:\n",
    "#     print(f\"{quantity} {food} left\") \n",
    "else:\n",
    "    print(f\"we don't make {food}\") #if food doesn't exist OR IS ZERO, creates error and moves to else, which is why adding elif\n",
    "    "
   ]
  },
  {
   "cell_type": "code",
   "execution_count": 86,
   "metadata": {},
   "outputs": [
    {
     "name": "stdout",
     "output_type": "stream",
     "text": [
      "{'current_score': 0, 'high_score': 0, 'number_of_lives': 0, 'items_in_inventory': 0, 'power_ups': 0, 'ammo': 0, 'enemies_on_screen': 0, 'enemy_kills': 0, 'enemy_kill_streaks': 0, 'minutes_played': 0, 'notifications': 0, 'achievements': 0}\n"
     ]
    }
   ],
   "source": [
    "game_properties = [\"current_score\", \"high_score\", \"number_of_lives\", \n",
    "                   \"items_in_inventory\", \"power_ups\", \"ammo\", \"enemies_on_screen\", \n",
    "                   \"enemy_kills\", \"enemy_kill_streaks\", \"minutes_played\", \"notifications\", \"achievements\"] \n",
    "\n",
    "# Use the game_properties list and dict.fromkeys() to generate a dictionary with all values set to 0. Save the result to a variable called initial_game_state\n",
    "#easy way:\n",
    "\n",
    "initial_game_state = dict.fromkeys(game_properties, 0)\n",
    "\n",
    "#hard way: initial_game_state = {}.fromkeys([\"current_score\", \"high_score\", \"number_of_lives\", \n",
    "                                 # \"items_in_inventory\", \"power_ups\", \"ammo\", \"enemies_on_screen\", \n",
    "                                  #\"enemy_kills\", \"enemy_kill_streaks\", \"minutes_played\", \"notifications\", \n",
    "                                  #\"achievements\"], 0)\n",
    "print(initial_game_state)"
   ]
  },
  {
   "cell_type": "code",
   "execution_count": 93,
   "metadata": {},
   "outputs": [
    {
     "name": "stdout",
     "output_type": "stream",
     "text": [
      "{'croissant': 19, 'bagel': 4, 'muffin': 8, 'cookie': 18}\n"
     ]
    }
   ],
   "source": [
    "inventory = {'croissant': 19, 'bagel': 4, 'muffin': 8, 'cake': 1} #DON'T CHANGE THIS LINE!\n",
    "# Make a copy of inventory and save it to a variable called stock_list\n",
    "stock_list = inventory.copy()\n",
    "# add the value 18 to stock_list under the key \"cookie\"\n",
    "stock_list['cookie'] = 18 #update is only when adding/replacing KV-pairs with different dictionary\n",
    "# remove 'cake' from stock_list\n",
    "stock_list.pop('cake')\n",
    "\n",
    "print(stock_list)\n"
   ]
  },
  {
   "cell_type": "code",
   "execution_count": 145,
   "metadata": {},
   "outputs": [
    {
     "name": "stdout",
     "output_type": "stream",
     "text": [
      "9.75 total length\n",
      "2.5 minute song\n",
      "5.25 minute song\n",
      "2.0 minute song\n"
     ]
    }
   ],
   "source": [
    "playlist = {\n",
    "\t'title': 'patagonia bus', \n",
    "\t'author': 'colt steele', \n",
    "\t'songs': [\n",
    "\t\t{'title': 'song1', 'artist': ['blue'], 'duration': 2.5},\n",
    "\t\t{'title': 'song2', 'artist': ['kitty', 'djcat'], 'duration': 5.25},\n",
    "\t\t{'title': 'meowmeow', 'artist': ['garfield'], 'duration': 2.0}\n",
    "\t]\n",
    "}\n",
    "\n",
    "#takes total length:\n",
    "total_length = 0\n",
    "for song in playlist['songs']:\n",
    "\ttotal_length += song['duration']\n",
    "print(f\"{total_length} total length\")\n",
    "\n",
    "#takes each song length\n",
    "lengths = []\n",
    "for song in playlist['songs']:\n",
    "    lengths =+ song['duration']\n",
    "    print(f\"{lengths} minute song\")\n",
    "    \n"
   ]
  },
  {
   "cell_type": "code",
   "execution_count": 152,
   "metadata": {},
   "outputs": [
    {
     "name": "stdout",
     "output_type": "stream",
     "text": [
      "{'CA': 'California', 'NJ': 'New Jersey', 'RI': 'Rhode Island'}\n",
      "{'CA': 'California', 'NJ': 'New Jersey', 'RI': 'Rhode Island'}\n",
      "{'CA': 'California', 'NJ': 'New Jersey', 'RI': 'Rhode Island'}\n"
     ]
    }
   ],
   "source": [
    "list1 = [\"CA\", \"NJ\", \"RI\"]\n",
    "list2 = [\"California\", \"New Jersey\", \"Rhode Island\"]\n",
    " \n",
    "print(answer)\n",
    "answer = {list1[i]: list2[i] for i in range(0,3)} # can use range(0, len(list1))}\n",
    "\n",
    "print(answer2)\n",
    "answer2 = {list1[i]: list2[i] for i in range(0,len(list1))}\n",
    "\n",
    "print(answer3)\n",
    "answer3 = dict(zip(list1,list2)) \n",
    "\n",
    "#advanced answer: dict(zip(list1,list2)) "
   ]
  },
  {
   "cell_type": "code",
   "execution_count": 164,
   "metadata": {},
   "outputs": [
    {
     "name": "stdout",
     "output_type": "stream",
     "text": [
      "{'name': 'Jared', 'job': 'Musician', 'city': 'Bern'}\n",
      "{'name': 'Jared', 'job': 'Musician', 'city': 'Bern'}\n",
      "{'name': 'Jared', 'job': 'Musician', 'city': 'Bern'}\n"
     ]
    }
   ],
   "source": [
    "#turning list into dictionaries\n",
    "\n",
    "person = [[\"name\", \"Jared\"], [\"job\", \"Musician\"], [\"city\", \"Bern\"]]\n",
    "\n",
    "answer1 = {thing[0]: thing[1] for thing in person}\n",
    "\n",
    "answer2 = {k:v for k,v in person}\n",
    "\n",
    "answer3 = dict(person)\n",
    "\n",
    "print(answer1)\n",
    "print(answer2)\n",
    "print(answer3)\n"
   ]
  },
  {
   "cell_type": "code",
   "execution_count": 13,
   "metadata": {},
   "outputs": [
    {
     "name": "stdout",
     "output_type": "stream",
     "text": [
      "{'a': 0, 'e': 0, 'i': 0, 'o': 0, 'u': 0} {'a': 0, 'e': 0, 'i': 0, 'o': 0, 'u': 0}\n"
     ]
    }
   ],
   "source": [
    "#create dictionary with vowels assigned to value=0:\n",
    "\n",
    "answer = {char:0 for char in 'aeiou'}\n",
    "\n",
    "answer2 = dict.fromkeys(\"aeiou\", 0)\n",
    "\n",
    "print(answer,answer2)"
   ]
  },
  {
   "cell_type": "code",
   "execution_count": 158,
   "metadata": {},
   "outputs": [
    {
     "name": "stdout",
     "output_type": "stream",
     "text": [
      "{65: 'A', 66: 'B', 67: 'C', 68: 'D', 69: 'E', 70: 'F', 71: 'G', 72: 'H', 73: 'I', 74: 'J', 75: 'K', 76: 'L', 77: 'M', 78: 'N', 79: 'O', 80: 'P', 81: 'Q', 82: 'R', 83: 'S', 84: 'T', 85: 'U', 86: 'V', 87: 'W', 88: 'X', 89: 'Y', 90: 'Z'}\n"
     ]
    }
   ],
   "source": [
    "answer = {letter:chr(letter) for letter in range(65,91)}          \n",
    "print(answer)"
   ]
  }
 ],
 "metadata": {
  "kernelspec": {
   "display_name": "Python 3",
   "language": "python",
   "name": "python3"
  },
  "language_info": {
   "codemirror_mode": {
    "name": "ipython",
    "version": 3
   },
   "file_extension": ".py",
   "mimetype": "text/x-python",
   "name": "python",
   "nbconvert_exporter": "python",
   "pygments_lexer": "ipython3",
   "version": "3.8.5"
  }
 },
 "nbformat": 4,
 "nbformat_minor": 4
}
