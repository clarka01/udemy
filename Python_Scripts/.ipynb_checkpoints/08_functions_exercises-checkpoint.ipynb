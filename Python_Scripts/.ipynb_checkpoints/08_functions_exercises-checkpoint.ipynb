{
 "cells": [
  {
   "cell_type": "code",
   "execution_count": 61,
   "metadata": {},
   "outputs": [
    {
     "name": "stdout",
     "output_type": "stream",
     "text": [
      "2\n"
     ]
    }
   ],
   "source": [
    "#multply two values:\n",
    "\n",
    "def product(a,b):\n",
    "    return a*b\n",
    "print(product(1,2))"
   ]
  },
  {
   "cell_type": "code",
   "execution_count": 105,
   "metadata": {},
   "outputs": [
    {
     "name": "stdout",
     "output_type": "stream",
     "text": [
      "Thursday\n"
     ]
    }
   ],
   "source": [
    "#returns days corresonding w/ days of wek. \n",
    "\n",
    "def return_day(num):\n",
    "    days = [\"Sunday\",\"Monday\", \"Tuesday\",\"Wednesday\",\"Thursday\",\"Friday\",\"Saturday\"]\n",
    "    # Check to see if num valid\n",
    "    if num > 0 and num <= len(days):\n",
    "        # use num - 1 because lists start at 0 \n",
    "        return days[num-1]\n",
    "    return None\n",
    "\n",
    "print(return_day(5))"
   ]
  },
  {
   "cell_type": "code",
   "execution_count": 115,
   "metadata": {},
   "outputs": [
    {
     "name": "stdout",
     "output_type": "stream",
     "text": [
      "1 : Sunday\n",
      "2 : Monday\n",
      "3 : Tuesday\n",
      "4 : Wednesday\n",
      "5 : Thursday\n",
      "6 : Friday\n",
      "7 : Saturday\n",
      "{1: 'Sunday', 2: 'Monday', 3: 'Tuesday', 4: 'Wednesday', 5: 'Thursday', 6: 'Friday', 7: 'Saturday'}\n"
     ]
    }
   ],
   "source": [
    "days = [\"Sunday\",\"Monday\", \"Tuesday\",\"Wednesday\",\"Thursday\",\"Friday\",\"Saturday\"]\n",
    "\n",
    "num = 0\n",
    "for day in days:\n",
    "    num +=1\n",
    "    print(f\"{num} : {day}\")\n",
    "    \n",
    "#################### making days/nums a dictionary\n",
    "\n",
    "days = [\"Sunday\",\"Monday\", \"Tuesday\",\"Wednesday\",\"Thursday\",\"Friday\",\"Saturday\"]\n",
    "\n",
    "nums = [num+1 for num in range(0,len(days))]\n",
    "\n",
    "daysnums = dict(zip(nums, days))\n",
    "\n",
    "print(daysnums)"
   ]
  },
  {
   "cell_type": "code",
   "execution_count": 121,
   "metadata": {},
   "outputs": [
    {
     "name": "stdout",
     "output_type": "stream",
     "text": [
      "Saturday\n"
     ]
    }
   ],
   "source": [
    "#Returns last item in list; First check to see if the list exists (if it has data in it).  \n",
    "#If it does, return the -1 item (last item).  Otherwise, return None.\n",
    "\n",
    "def last_element(l):\n",
    "    if l:\n",
    "        return l[-1]\n",
    "    return None\n",
    "\n",
    "days = [\"Sunday\",\"Monday\", \"Tuesday\",\"Wednesday\",\"Thursday\",\"Friday\",\"Saturday\"]\n",
    "\n",
    "print(last_element(days))\n"
   ]
  },
  {
   "cell_type": "code",
   "execution_count": 133,
   "metadata": {},
   "outputs": [
    {
     "name": "stdout",
     "output_type": "stream",
     "text": [
      "[1, 2, 3, 4, 5, 6, 7, 8, 9, 10]\n",
      "1\n",
      "2\n",
      "3\n",
      "4\n",
      "5\n",
      "6\n",
      "7\n",
      "8\n",
      "9\n",
      "10\n"
     ]
    }
   ],
   "source": [
    "##############list comprehension:\n",
    "\n",
    "nums = range(0,10)\n",
    "\n",
    "numbers = [num+1 for num in nums]\n",
    "\n",
    "print(numbers)\n",
    "\n",
    "############### for loop\n",
    "\n",
    "nums = range(0,10)\n",
    "\n",
    "numbers = 0\n",
    "for num in nums:\n",
    "    numbers += 1\n",
    "    print(numbers)"
   ]
  },
  {
   "cell_type": "code",
   "execution_count": null,
   "metadata": {},
   "outputs": [],
   "source": [
    "#compare two numbers to see which is greater/lesser:\n",
    "\n",
    "def number_compare(a,b):\n",
    "    if a == b:\n",
    "        return \"Numbers are equal\"\n",
    "    elif a > b:\n",
    "        return \"First is greater\"\n",
    "    return \"Second is greater\""
   ]
  },
  {
   "cell_type": "code",
   "execution_count": 149,
   "metadata": {},
   "outputs": [
    {
     "data": {
      "text/plain": [
       "5"
      ]
     },
     "execution_count": 149,
     "metadata": {},
     "output_type": "execute_result"
    }
   ],
   "source": [
    "#returns # of letters in phrase:\n",
    "\n",
    "def single_letter_count(phrase, piece):\n",
    "    return phrase.count(piece)\n",
    "\n",
    "single_letter_count(\"44444\", \"44\") #counts anything in the text string, parces them out....44444 has (2) 44's in it\n",
    "# single_letter_count(\"44444\", \"4\") #5\n",
    "# single_letter_count(\"yo yo yo      \", \" \") #8 spaces"
   ]
  },
  {
   "cell_type": "code",
   "execution_count": 190,
   "metadata": {},
   "outputs": [
    {
     "data": {
      "text/plain": [
       "{'m': 1, 'i': 4, 's': 4, 'p': 2}"
      ]
     },
     "execution_count": 190,
     "metadata": {},
     "output_type": "execute_result"
    }
   ],
   "source": [
    "def multiple_letter_count(string):\n",
    "    return {letter: string.count(letter) for letter in string} #, {letter for letter in string}, len(string)\n",
    "\n",
    "multiple_letter_count(\"mississippi\")"
   ]
  },
  {
   "cell_type": "code",
   "execution_count": 15,
   "metadata": {},
   "outputs": [
    {
     "data": {
      "text/plain": [
       "['motorcycle', 1, 2, 3]"
      ]
     },
     "execution_count": 15,
     "metadata": {},
     "output_type": "execute_result"
    }
   ],
   "source": [
    "# takes list, and adds/removes values from beginning/end:\n",
    "\n",
    "def list_manipulation(collection, command, location, value=None):\n",
    "    if(command == \"remove\" and location == \"end\"):\n",
    "        return collection.pop()\n",
    "    elif(command == \"remove\" and location == \"beginning\"):\n",
    "        return collection.pop(0)\n",
    "    elif(command == \"add\" and location == \"beginning\"):\n",
    "        collection.insert(0,value)\n",
    "        return collection\n",
    "    elif(command == \"add\" and location == \"end\"):\n",
    "        collection.append(value)\n",
    "        return collection\n",
    "    \n",
    "list_manipulation([1,2,3], \"add\", \"beginning\", \"motorcycle\")"
   ]
  },
  {
   "cell_type": "code",
   "execution_count": 221,
   "metadata": {},
   "outputs": [
    {
     "data": {
      "text/plain": [
       "(True, False)"
      ]
     },
     "execution_count": 221,
     "metadata": {},
     "output_type": "execute_result"
    }
   ],
   "source": [
    "#checks if word is palindrome \n",
    "\n",
    "def is_palindrome(word):\n",
    "    return word == word[::-1]\n",
    "\n",
    "is_palindrome(\"racecar\"), is_palindrome(\"no\") #is palandrome #is palandrome"
   ]
  },
  {
   "cell_type": "code",
   "execution_count": 222,
   "metadata": {},
   "outputs": [
    {
     "name": "stdout",
     "output_type": "stream",
     "text": [
      "3\n"
     ]
    }
   ],
   "source": [
    "#counts frequency of values in list\n",
    "\n",
    "def frequency(list1, value):\n",
    "    return list1.count(value)\n",
    "print(frequency([1,2,2,3,3,3,4,4,4,4], 3))"
   ]
  },
  {
   "cell_type": "code",
   "execution_count": 230,
   "metadata": {},
   "outputs": [
    {
     "name": "stdout",
     "output_type": "stream",
     "text": [
      "3840\n",
      "3840\n"
     ]
    },
    {
     "data": {
      "text/plain": [
       "(None, None)"
      ]
     },
     "execution_count": 230,
     "metadata": {},
     "output_type": "execute_result"
    }
   ],
   "source": [
    "#multiplies all even numbers:\n",
    "    \n",
    "def multiply_even_numbers(list1):\n",
    "    tot= 1 #must give tot starting value greater than 0, because loop will loop \"tot=0\" instead of value\n",
    "    for i in list1: #loop repeats only in these 3 lines...2 (ok), 3(no), 4(ok), etc.\n",
    "        if i % 2 == 0:\n",
    "            tot = tot * i\n",
    "    return tot #returns 2*4*6\n",
    "print(multiply_even_numbers(range(1,11))), print(multiply_even_numbers([1,2,3,4,5,6,7,8,9,10]))"
   ]
  },
  {
   "cell_type": "code",
   "execution_count": 248,
   "metadata": {},
   "outputs": [
    {
     "name": "stdout",
     "output_type": "stream",
     "text": [
      "3840\n"
     ]
    }
   ],
   "source": [
    "list1 = [1,2,3,4,5,6,7,8,9,10]\n",
    "\n",
    "x=1\n",
    "for i in list1:\n",
    "    if i % 2 == 0:\n",
    "        x = x * i #1*2 = 2, 2*4=8, 8*6 = 48, 48*8=384, 384*10 = 3840\n",
    "print(x)"
   ]
  },
  {
   "cell_type": "code",
   "execution_count": 7,
   "metadata": {},
   "outputs": [
    {
     "name": "stdout",
     "output_type": "stream",
     "text": [
      "Moo-muh-moo-moo, moo-muh-moo\n"
     ]
    }
   ],
   "source": [
    "#capitalizes first letter of word using slices:\n",
    "def capitalize(word):\n",
    "    return word[:1].upper() + word[1:]\n",
    "print(capitalize(\"moo-muh-moo-moo, moo-muh-moo\"))"
   ]
  },
  {
   "cell_type": "code",
   "execution_count": 13,
   "metadata": {},
   "outputs": [
    {
     "name": "stdout",
     "output_type": "stream",
     "text": [
      "[1, True, 4]\n"
     ]
    }
   ],
   "source": [
    "#returns value from list if true\n",
    "\n",
    "#list comprehension:\n",
    "\n",
    "def compact(l):\n",
    "    return [val for val in l if val] #if val is asking if val is truthy\n",
    "\n",
    "# #without list comprehension:\n",
    "\n",
    "def compact(l): # l is list\n",
    "    truthy_vals = [] #starts with empty list\n",
    "    for val in l:\n",
    "        if val: \n",
    "            truthy_vals.append(val)\n",
    "    return truthy_vals\n",
    "\n",
    "print(compact([0,1,True, False, 4, None]))\n",
    "\n"
   ]
  },
  {
   "cell_type": "code",
   "execution_count": 251,
   "metadata": {},
   "outputs": [
    {
     "name": "stdout",
     "output_type": "stream",
     "text": [
      "[1, True]\n"
     ]
    }
   ],
   "source": [
    "truthy_vals = []\n",
    "l = [0,1,True,False]\n",
    "for val in l:\n",
    "    if val: \n",
    "        truthy_vals.append(val)\n",
    "print(truthy_vals)        "
   ]
  },
  {
   "cell_type": "code",
   "execution_count": 63,
   "metadata": {},
   "outputs": [
    {
     "name": "stdout",
     "output_type": "stream",
     "text": [
      "[3, 5]\n"
     ]
    }
   ],
   "source": [
    "# #returns intersecting values (values in both lists)\n",
    "\n",
    "# #using for loop\n",
    "\n",
    "# def intersection(l1, l2):\n",
    "#     common=[]\n",
    "#     for i in l1:\n",
    "#         if i in l2:\n",
    "#             common.append(i)\n",
    "#     return common\n",
    "\n",
    "# #using list comprehension\n",
    "\n",
    "# def intersection(l1, l2):\n",
    "#     return [i for i in l1 if i in l2]\n",
    "    \n",
    "# #using sets:\n",
    "    \n",
    "def intersection(l1, l2):\n",
    "    return [val for val in set(l1) & set(l2)]\n",
    "\n",
    "print(intersection([1,2,3,5], [3,4,5,6]))\n"
   ]
  },
  {
   "cell_type": "code",
   "execution_count": 257,
   "metadata": {},
   "outputs": [],
   "source": [
    "# list1 = [1,2,3,4,5]\n",
    "# list2 = [3,4,5,6,7]\n",
    "\n",
    "# list3 = []\n",
    "# for i in list1:\n",
    "#     if i in list2:\n",
    "#         list3.append(i)\n",
    "# print(list3)\n",
    "\n",
    "def combine(list1,list2):\n",
    "    for i in list1:\n",
    "        if i in list2:\n",
    "            combine.append(i)\n",
    "    return(combine([1,2,3,4,5],[3,4,5,6,7]))"
   ]
  },
  {
   "cell_type": "code",
   "execution_count": 70,
   "metadata": {},
   "outputs": [
    {
     "ename": "TypeError",
     "evalue": "'bool' object is not callable",
     "output_type": "error",
     "traceback": [
      "\u001b[1;31m---------------------------------------------------------------------------\u001b[0m",
      "\u001b[1;31mTypeError\u001b[0m                                 Traceback (most recent call last)",
      "\u001b[1;32m<ipython-input-70-3e6b0340057a>\u001b[0m in \u001b[0;36m<module>\u001b[1;34m\u001b[0m\n\u001b[0;32m     13\u001b[0m \u001b[1;32mdef\u001b[0m \u001b[0mpartition\u001b[0m\u001b[1;33m(\u001b[0m\u001b[0mlst\u001b[0m\u001b[1;33m,\u001b[0m \u001b[0mfn\u001b[0m\u001b[1;33m)\u001b[0m\u001b[1;33m:\u001b[0m\u001b[1;33m\u001b[0m\u001b[1;33m\u001b[0m\u001b[0m\n\u001b[0;32m     14\u001b[0m     \u001b[1;32mreturn\u001b[0m \u001b[1;33m[\u001b[0m\u001b[1;33m[\u001b[0m\u001b[0mval\u001b[0m \u001b[1;32mfor\u001b[0m \u001b[0mval\u001b[0m \u001b[1;32min\u001b[0m \u001b[0mlst\u001b[0m \u001b[1;32mif\u001b[0m \u001b[0mfn\u001b[0m\u001b[1;33m(\u001b[0m\u001b[0mval\u001b[0m\u001b[1;33m)\u001b[0m\u001b[1;33m]\u001b[0m\u001b[1;33m,\u001b[0m \u001b[1;33m[\u001b[0m\u001b[0mval\u001b[0m \u001b[1;32mfor\u001b[0m \u001b[0mval\u001b[0m \u001b[1;32min\u001b[0m \u001b[0mlst\u001b[0m \u001b[1;32mif\u001b[0m \u001b[1;32mnot\u001b[0m \u001b[0mfn\u001b[0m\u001b[1;33m(\u001b[0m\u001b[0mval\u001b[0m\u001b[1;33m)\u001b[0m\u001b[1;33m]\u001b[0m\u001b[1;33m]\u001b[0m\u001b[1;33m\u001b[0m\u001b[1;33m\u001b[0m\u001b[0m\n\u001b[1;32m---> 15\u001b[1;33m \u001b[0mprint\u001b[0m\u001b[1;33m(\u001b[0m\u001b[0mpartition\u001b[0m\u001b[1;33m(\u001b[0m\u001b[1;33m[\u001b[0m\u001b[1;36m0\u001b[0m\u001b[1;33m,\u001b[0m\u001b[1;36m1\u001b[0m\u001b[1;33m]\u001b[0m\u001b[1;33m,\u001b[0m \u001b[1;32mFalse\u001b[0m\u001b[1;33m)\u001b[0m\u001b[1;33m)\u001b[0m\u001b[1;33m\u001b[0m\u001b[1;33m\u001b[0m\u001b[0m\n\u001b[0m\u001b[0;32m     16\u001b[0m \u001b[1;33m\u001b[0m\u001b[0m\n\u001b[0;32m     17\u001b[0m \u001b[1;31m# def partition(l, callback):\u001b[0m\u001b[1;33m\u001b[0m\u001b[1;33m\u001b[0m\u001b[1;33m\u001b[0m\u001b[0m\n",
      "\u001b[1;32m<ipython-input-70-3e6b0340057a>\u001b[0m in \u001b[0;36mpartition\u001b[1;34m(lst, fn)\u001b[0m\n\u001b[0;32m     12\u001b[0m \u001b[1;33m\u001b[0m\u001b[0m\n\u001b[0;32m     13\u001b[0m \u001b[1;32mdef\u001b[0m \u001b[0mpartition\u001b[0m\u001b[1;33m(\u001b[0m\u001b[0mlst\u001b[0m\u001b[1;33m,\u001b[0m \u001b[0mfn\u001b[0m\u001b[1;33m)\u001b[0m\u001b[1;33m:\u001b[0m\u001b[1;33m\u001b[0m\u001b[1;33m\u001b[0m\u001b[0m\n\u001b[1;32m---> 14\u001b[1;33m     \u001b[1;32mreturn\u001b[0m \u001b[1;33m[\u001b[0m\u001b[1;33m[\u001b[0m\u001b[0mval\u001b[0m \u001b[1;32mfor\u001b[0m \u001b[0mval\u001b[0m \u001b[1;32min\u001b[0m \u001b[0mlst\u001b[0m \u001b[1;32mif\u001b[0m \u001b[0mfn\u001b[0m\u001b[1;33m(\u001b[0m\u001b[0mval\u001b[0m\u001b[1;33m)\u001b[0m\u001b[1;33m]\u001b[0m\u001b[1;33m,\u001b[0m \u001b[1;33m[\u001b[0m\u001b[0mval\u001b[0m \u001b[1;32mfor\u001b[0m \u001b[0mval\u001b[0m \u001b[1;32min\u001b[0m \u001b[0mlst\u001b[0m \u001b[1;32mif\u001b[0m \u001b[1;32mnot\u001b[0m \u001b[0mfn\u001b[0m\u001b[1;33m(\u001b[0m\u001b[0mval\u001b[0m\u001b[1;33m)\u001b[0m\u001b[1;33m]\u001b[0m\u001b[1;33m]\u001b[0m\u001b[1;33m\u001b[0m\u001b[1;33m\u001b[0m\u001b[0m\n\u001b[0m\u001b[0;32m     15\u001b[0m \u001b[0mprint\u001b[0m\u001b[1;33m(\u001b[0m\u001b[0mpartition\u001b[0m\u001b[1;33m(\u001b[0m\u001b[1;33m[\u001b[0m\u001b[1;36m0\u001b[0m\u001b[1;33m,\u001b[0m\u001b[1;36m1\u001b[0m\u001b[1;33m]\u001b[0m\u001b[1;33m,\u001b[0m \u001b[1;32mFalse\u001b[0m\u001b[1;33m)\u001b[0m\u001b[1;33m)\u001b[0m\u001b[1;33m\u001b[0m\u001b[1;33m\u001b[0m\u001b[0m\n\u001b[0;32m     16\u001b[0m \u001b[1;33m\u001b[0m\u001b[0m\n",
      "\u001b[1;32m<ipython-input-70-3e6b0340057a>\u001b[0m in \u001b[0;36m<listcomp>\u001b[1;34m(.0)\u001b[0m\n\u001b[0;32m     12\u001b[0m \u001b[1;33m\u001b[0m\u001b[0m\n\u001b[0;32m     13\u001b[0m \u001b[1;32mdef\u001b[0m \u001b[0mpartition\u001b[0m\u001b[1;33m(\u001b[0m\u001b[0mlst\u001b[0m\u001b[1;33m,\u001b[0m \u001b[0mfn\u001b[0m\u001b[1;33m)\u001b[0m\u001b[1;33m:\u001b[0m\u001b[1;33m\u001b[0m\u001b[1;33m\u001b[0m\u001b[0m\n\u001b[1;32m---> 14\u001b[1;33m     \u001b[1;32mreturn\u001b[0m \u001b[1;33m[\u001b[0m\u001b[1;33m[\u001b[0m\u001b[0mval\u001b[0m \u001b[1;32mfor\u001b[0m \u001b[0mval\u001b[0m \u001b[1;32min\u001b[0m \u001b[0mlst\u001b[0m \u001b[1;32mif\u001b[0m \u001b[0mfn\u001b[0m\u001b[1;33m(\u001b[0m\u001b[0mval\u001b[0m\u001b[1;33m)\u001b[0m\u001b[1;33m]\u001b[0m\u001b[1;33m,\u001b[0m \u001b[1;33m[\u001b[0m\u001b[0mval\u001b[0m \u001b[1;32mfor\u001b[0m \u001b[0mval\u001b[0m \u001b[1;32min\u001b[0m \u001b[0mlst\u001b[0m \u001b[1;32mif\u001b[0m \u001b[1;32mnot\u001b[0m \u001b[0mfn\u001b[0m\u001b[1;33m(\u001b[0m\u001b[0mval\u001b[0m\u001b[1;33m)\u001b[0m\u001b[1;33m]\u001b[0m\u001b[1;33m]\u001b[0m\u001b[1;33m\u001b[0m\u001b[1;33m\u001b[0m\u001b[0m\n\u001b[0m\u001b[0;32m     15\u001b[0m \u001b[0mprint\u001b[0m\u001b[1;33m(\u001b[0m\u001b[0mpartition\u001b[0m\u001b[1;33m(\u001b[0m\u001b[1;33m[\u001b[0m\u001b[1;36m0\u001b[0m\u001b[1;33m,\u001b[0m\u001b[1;36m1\u001b[0m\u001b[1;33m]\u001b[0m\u001b[1;33m,\u001b[0m \u001b[1;32mFalse\u001b[0m\u001b[1;33m)\u001b[0m\u001b[1;33m)\u001b[0m\u001b[1;33m\u001b[0m\u001b[1;33m\u001b[0m\u001b[0m\n\u001b[0;32m     16\u001b[0m \u001b[1;33m\u001b[0m\u001b[0m\n",
      "\u001b[1;31mTypeError\u001b[0m: 'bool' object is not callable"
     ]
    }
   ],
   "source": [
    "# #create function that takes list and partitions into truthy falsey lists\n",
    "\n",
    "# def partition(lst, fn):\n",
    "#     trues = []\n",
    "#     falses = []\n",
    "#     for val in lst:\n",
    "#         if fn(val):\n",
    "#             trues.append(val)\n",
    "#         else:\n",
    "#             falses.append(val)\n",
    "#     return [trues, falses]\n",
    "\n",
    "def partition(lst, fn):\n",
    "    return [[val for val in lst if fn(val)], [val for val in lst if not fn(val)]]\n",
    "print(partition([0,1], False))\n",
    "      \n",
    "# def partition(l, callback):\n",
    "#     return [[l.pop(l.index(i)) for i in l if callback(i)],l] \n"
   ]
  },
  {
   "cell_type": "code",
   "execution_count": null,
   "metadata": {},
   "outputs": [],
   "source": []
  }
 ],
 "metadata": {
  "kernelspec": {
   "display_name": "Python 3",
   "language": "python",
   "name": "python3"
  }
 },
 "nbformat": 4,
 "nbformat_minor": 4
}
