{
 "cells": [
  {
   "cell_type": "code",
   "execution_count": 1,
   "metadata": {},
   "outputs": [
    {
     "name": "stdout",
     "output_type": "stream",
     "text": [
      "<class '__main__.Person'>\n"
     ]
    }
   ],
   "source": [
    "class Person:\n",
    "\tpass\n",
    "\n",
    "p = Person()\n",
    "print(type(p))"
   ]
  },
  {
   "cell_type": "code",
   "execution_count": null,
   "metadata": {},
   "outputs": [],
   "source": [
    "#__init__ method\n",
    "\n",
    "# A User class with 3 attributes but no methods (aside from __init__)\n",
    "class User:\n",
    "\tdef __init__(self, first, last, age):\n",
    "\t\tself.first = first\n",
    "\t\tself.last = last\n",
    "\t\tself.age = age\n",
    "\n",
    "user1 = User(\"Joe\",\"Smith\", 68)\n",
    "user2 = User(\"Blanca\", \"Lopez\", 41)\n",
    "print(user1.first, user1.last, user1.age)\n",
    "print(user2.first, user2.last, user2.age)\n"
   ]
  },
  {
   "cell_type": "code",
   "execution_count": 9,
   "metadata": {},
   "outputs": [
    {
     "name": "stdout",
     "output_type": "stream",
     "text": [
      "davey123 lol 3\n",
      "rosa77 cute\n"
     ]
    }
   ],
   "source": [
    "class Comment:\n",
    "    \n",
    "    def __init__(self, username, text, likes=0):\n",
    "        self.username = username\n",
    "        self.text = text\n",
    "        self.likes = likes\n",
    "        \n",
    "c = Comment('davey123', 'lol', 3)\n",
    "print(c.username, c.text, c.likes)\n",
    "\n",
    "c2 = Comment('rosa77', 'cute')\n",
    "print(c2.username, c2.text)\n",
    "\n",
    "\n"
   ]
  },
  {
   "cell_type": "code",
   "execution_count": 10,
   "metadata": {},
   "outputs": [
    {
     "name": "stdout",
     "output_type": "stream",
     "text": [
      "Tony\n",
      "hi!\n",
      "['_Person__lol', '_Person__msg', '__class__', '__delattr__', '__dict__', '__dir__', '__doc__', '__eq__', '__format__', '__ge__', '__getattribute__', '__gt__', '__hash__', '__init__', '__init_subclass__', '__le__', '__lt__', '__module__', '__ne__', '__new__', '__reduce__', '__reduce_ex__', '__repr__', '__setattr__', '__sizeof__', '__str__', '__subclasshook__', '__weakref__', '_secret', 'name']\n",
      "I like turtles!\n",
      "HAHAHAHAH\n"
     ]
    }
   ],
   "source": [
    "# _name\n",
    "# __name\n",
    "# __name__\n",
    "\n",
    "\n",
    "class Person:\n",
    "\t# Init is a \"dunder\" method\n",
    "    def __init__(self):\n",
    "        self.name = \"Tony\"\n",
    "        # single underscore means \"private\" (sort of)\n",
    "        self._secret = \"hi!\"\n",
    "        # two leading underscores tells Python to \"mangle\" the name\n",
    "        self.__msg = \"I like turtles!\" #name mangling - \n",
    "        self.__lol = \"HAHAHAHAH\"\n",
    "\n",
    "\n",
    "p = Person()\n",
    "\n",
    "print(p.name)\n",
    "print(p._secret) #Anyone can still directly access the attribute\n",
    "\n",
    "print(dir(p)) # Notice what __msg and __lol have been \"mangled\" to\n",
    "\n",
    "print(p._Person__msg)\n",
    "print(p._Person__lol)"
   ]
  }
 ],
 "metadata": {
  "kernelspec": {
   "display_name": "Python 3",
   "language": "python",
   "name": "python3"
  },
  "language_info": {
   "codemirror_mode": {
    "name": "ipython",
    "version": 3
   },
   "file_extension": ".py",
   "mimetype": "text/x-python",
   "name": "python",
   "nbconvert_exporter": "python",
   "pygments_lexer": "ipython3",
   "version": "3.8.5"
  }
 },
 "nbformat": 4,
 "nbformat_minor": 4
}
