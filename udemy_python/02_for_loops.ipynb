{
 "cells": [
  {
   "cell_type": "markdown",
   "metadata": {},
   "source": [
    "for x in range(1,10):<br>\n",
    "\tprint(x)<br>\n",
    "\tprint(x*x)"
   ]
  },
  {
   "cell_type": "code",
   "execution_count": 7,
   "metadata": {},
   "outputs": [
    {
     "name": "stdout",
     "output_type": "stream",
     "text": [
      "cc\n",
      "oo\n",
      "ff\n",
      "ff\n",
      "ee\n",
      "ee\n",
      "['cc', 'oo', 'ff', 'ff', 'ee', 'ee']\n"
     ]
    }
   ],
   "source": [
    "for letter in \"coffee\":\n",
    "\tprint(letter*2)\n",
    "    \n",
    "let2 = [letter*2 for letter in \"coffee\"]\n",
    "print(let2)"
   ]
  },
  {
   "cell_type": "code",
   "execution_count": 5,
   "metadata": {},
   "outputs": [
    {
     "name": "stdout",
     "output_type": "stream",
     "text": [
      "How many times do I have to tell you? 4\n",
      "time 1:CLEAN UP YOUR ROOM\n",
      "time 2:CLEAN UP YOUR ROOM\n",
      "time 3:CLEAN UP YOUR ROOM\n",
      "time 4:CLEAN UP YOUR ROOM\n"
     ]
    }
   ],
   "source": [
    "times = input(\"How many times do I have to tell you? \")\n",
    "times = int(times)\n",
    "\n",
    "#print(f\"I told you {times} times.\")\n",
    "\n",
    "# for time in range(times):\n",
    "# \tprint(\"CLEAN UP YOUR ROOM\")\n",
    "    \n",
    "for time in range(times):\n",
    "    print(f\"time {time+1}:CLEAN UP YOUR ROOM\")"
   ]
  },
  {
   "cell_type": "code",
   "execution_count": 6,
   "metadata": {},
   "outputs": [
    {
     "name": "stdout",
     "output_type": "stream",
     "text": [
      "1 is odd\n",
      "2 is even\n",
      "3 is odd\n",
      "4 is unlucky\n",
      "5 is odd\n",
      "6 is even\n",
      "7 is odd\n",
      "8 is even\n",
      "9 is odd\n",
      "10 is even\n",
      "11 is odd\n",
      "12 is even\n",
      "13 is unlucky\n",
      "14 is even\n",
      "15 is odd\n",
      "16 is even\n",
      "17 is odd\n",
      "18 is even\n",
      "19 is odd\n",
      "20 is even\n"
     ]
    }
   ],
   "source": [
    "for num in range(1,21):\n",
    "\tif num == 4 or num == 13:\n",
    "\t\tprint(f\"{num} is unlucky\")\n",
    "\telif num % 2 == 0:\n",
    "\t\tprint(f\"{num} is even\")\n",
    "\telse:\n",
    "\t\tprint(f\"{num} is odd\")"
   ]
  },
  {
   "cell_type": "code",
   "execution_count": 7,
   "metadata": {},
   "outputs": [
    {
     "name": "stdout",
     "output_type": "stream",
     "text": [
      "1 is odd\n",
      "2 is even\n",
      "3 is odd\n",
      "4 is unlucky\n",
      "5 is odd\n",
      "6 is even\n",
      "7 is odd\n",
      "8 is even\n",
      "9 is odd\n",
      "10 is even\n",
      "11 is odd\n",
      "12 is even\n",
      "13 is unlucky\n",
      "14 is even\n",
      "15 is odd\n",
      "16 is even\n",
      "17 is odd\n",
      "18 is even\n",
      "19 is odd\n",
      "20 is even\n"
     ]
    }
   ],
   "source": [
    "# Slight Refactor (try to reassign \"state\" of object so that if statement code is compact)\n",
    "for num in range(1,21):\n",
    "\tif num == 4 or num == 13:\n",
    "\t\tstate = \"unlucky\"\n",
    "\telif num % 2 == 0:\n",
    "\t\tstate = \"even\"\n",
    "\telse:\n",
    "\t\tstate = \"odd\"\n",
    "\tprint(f\"{num} is {state}\")"
   ]
  },
  {
   "cell_type": "code",
   "execution_count": 20,
   "metadata": {},
   "outputs": [
    {
     "name": "stdout",
     "output_type": "stream",
     "text": [
      "SUPERCALIFRAGILISTICEXPIALIDOCIOUS\n"
     ]
    }
   ],
   "source": [
    "#write code that adds all strings together and capitalize\\n\"\n",
    "\n",
    "result = ''\n",
    "\n",
    "sounds = [\"super\", \"cali\", \"fragil\", \"istic\", \"expi\", \"ali\", \"docious\"]\n",
    "for s in sounds:\n",
    "    result += s.upper() #to capilize first letter uses slices/capitalize-- result += s[0].upper() + s[1::]\n",
    "print(result)\n",
    "    \n",
    "    # or\\n\",\n",
    "    #result += s\\n\n",
    "    #result = result.upper()\""
   ]
  },
  {
   "cell_type": "code",
   "execution_count": null,
   "metadata": {},
   "outputs": [],
   "source": []
  },
  {
   "cell_type": "code",
   "execution_count": null,
   "metadata": {},
   "outputs": [],
   "source": []
  }
 ],
 "metadata": {
  "kernelspec": {
   "display_name": "Python 3",
   "language": "python",
   "name": "python3"
  },
  "language_info": {
   "codemirror_mode": {
    "name": "ipython",
    "version": 3
   },
   "file_extension": ".py",
   "mimetype": "text/x-python",
   "name": "python",
   "nbconvert_exporter": "python",
   "pygments_lexer": "ipython3",
   "version": "3.8.5"
  }
 },
 "nbformat": 4,
 "nbformat_minor": 2
}
