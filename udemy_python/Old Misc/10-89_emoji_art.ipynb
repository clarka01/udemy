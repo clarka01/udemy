{
 "cells": [
  {
   "cell_type": "markdown",
   "metadata": {},
   "source": [
    "With a for loop"
   ]
  },
  {
   "cell_type": "code",
   "execution_count": null,
   "metadata": {},
   "outputs": [],
   "source": [
    "for x in range(3):\n",
    "\tfor num in range(1,11): \n",
    "\t\tprint(\"\\U0001f600\" * num)"
   ]
  },
  {
   "cell_type": "markdown",
   "metadata": {},
   "source": [
    "With a while loop"
   ]
  },
  {
   "cell_type": "code",
   "execution_count": null,
   "metadata": {},
   "outputs": [],
   "source": [
    "times = 1\n",
    "while times < 11:\n",
    "\tprint(\"\\U0001f600\" * times)\n",
    "\ttimes += 1"
   ]
  },
  {
   "cell_type": "markdown",
   "metadata": {},
   "source": [
    "Without string multiplication - ugly solution<br>\n",
    "for num in range(1,11): <br>\n",
    "\tcount = 1<br>\n",
    "\tsmileys = \"\"<br>\n",
    "\twhile count <= num:<br>\n",
    "\t\tsmileys += \"\\U0001f600\"<br>\n",
    "\t\tcount += 1<br>\n",
    "\tprint(smileys)"
   ]
  }
 ],
 "metadata": {
  "kernelspec": {
   "display_name": "Python 3",
   "language": "python",
   "name": "python3"
  },
  "language_info": {
   "codemirror_mode": {
    "name": "ipython",
    "version": 3
   },
   "file_extension": ".py",
   "mimetype": "text/x-python",
   "name": "python",
   "nbconvert_exporter": "python",
   "pygments_lexer": "ipython3",
   "version": "3.8.5"
  }
 },
 "nbformat": 4,
 "nbformat_minor": 2
}
