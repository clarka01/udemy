{
 "cells": [
  {
   "cell_type": "code",
   "execution_count": 5,
   "metadata": {},
   "outputs": [
    {
     "name": "stdout",
     "output_type": "stream",
     "text": [
      " this is a union: {0, 1, 2, 3, 4, 5, 6, 7, 8, None, 'cheese'}\n",
      "  intersection {3, 4, 5, 6, 'cheese'}\n"
     ]
    }
   ],
   "source": [
    "#Set Math\n",
    "\n",
    "s1 = {0,1,2,3,4,5,6,\"cheese\"}\n",
    "s2 = {3,4,5,6,7,8, \"cheese\", None}\n",
    "\n",
    "union = (f' this is a union: {s1 | s2}\\n') #set union; unique values between lists\n",
    "intersection = (f' intersection {s1 & s2}') #set intersections\n",
    "\n",
    "print(union, intersection)"
   ]
  },
  {
   "cell_type": "code",
   "execution_count": 10,
   "metadata": {},
   "outputs": [
    {
     "name": "stdout",
     "output_type": "stream",
     "text": [
      "(1, 2, 3, 4) [10, 20, 30] (10, 20, 30) [1, 3, 1, 5, 2, 5, 1, 2, 5] {1, 2, 3, 5}\n"
     ]
    }
   ],
   "source": [
    "# 1 - Create a variable called numbers which is a tuple with the the values 1, 2, 3 and 4 inside.\n",
    "\n",
    "numbers = (1,2,3,4)\n",
    "# 2 - Create a variable called value which is a tuple with the the value 1 inside.\n",
    "\n",
    "value = (1,)\n",
    "# 3 - Given the following variable:\n",
    "\n",
    "values = [10,20,30]\n",
    "\n",
    "# Create a variable called static_values which is the result of the values variable converted to a tuple\n",
    "\n",
    "static_values = tuple(values)\n",
    "# 4 - Given the following variable\n",
    "\n",
    "stuff = [1,3,1,5,2,5,1,2,5]\n",
    "\n",
    "# Create a variable called unique_stuff which is a set of only the unique values in the stuff list\n",
    "unique_stuff = set(stuff)\n",
    "\n",
    "print(numbers, values, static_values, stuff, unique_stuff)"
   ]
  },
  {
   "cell_type": "code",
   "execution_count": 15,
   "metadata": {},
   "outputs": [
    {
     "name": "stdout",
     "output_type": "stream",
     "text": [
      "(1,)\n"
     ]
    },
    {
     "data": {
      "text/plain": [
       "1"
      ]
     },
     "execution_count": 15,
     "metadata": {},
     "output_type": "execute_result"
    }
   ],
   "source": [
    "# 2 - Create a variable called value which is a tuple with the the value 1 inside.\n",
    "\n",
    "value = (1,)\n",
    "print(value)\n",
    "len(value)"
   ]
  },
  {
   "cell_type": "code",
   "execution_count": null,
   "metadata": {},
   "outputs": [],
   "source": [
    "#add \"and 'last element'\" to list\n",
    "\n",
    "myTuple = (\"John\", \"Peter\", \"Vicky\", \"George\", \"Liam\")\n",
    "myTuple2 = (list(myTuple))\n",
    "myTuple2.append('and '+ myTuple2.pop())\n",
    "\n",
    "x = ', '.join(myTuple2) \n",
    "\n",
    "print(x)"
   ]
  }
 ],
 "metadata": {
  "kernelspec": {
   "display_name": "Python 3",
   "language": "python",
   "name": "python3"
  },
  "language_info": {
   "codemirror_mode": {
    "name": "ipython",
    "version": 3
   },
   "file_extension": ".py",
   "mimetype": "text/x-python",
   "name": "python",
   "nbconvert_exporter": "python",
   "pygments_lexer": "ipython3",
   "version": "3.8.5"
  }
 },
 "nbformat": 4,
 "nbformat_minor": 4
}
