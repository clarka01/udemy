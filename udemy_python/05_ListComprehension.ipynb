{
 "cells": [
  {
   "cell_type": "code",
   "execution_count": 3,
   "metadata": {
    "scrolled": false
   },
   "outputs": [
    {
     "name": "stdout",
     "output_type": "stream",
     "text": [
      "['E', 'T', 'M']\n"
     ]
    }
   ],
   "source": [
    "#list first letter of name in list\n",
    "answer = [person[0] for person in [\"Elie\", \"Tim\", \"Matt\"]]\n",
    "print(answer)"
   ]
  },
  {
   "cell_type": "code",
   "execution_count": 9,
   "metadata": {},
   "outputs": [
    {
     "name": "stdout",
     "output_type": "stream",
     "text": [
      "['E', 'T', 'M']\n"
     ]
    }
   ],
   "source": [
    "#above without using list comp\n",
    "answer2 = []\n",
    "for name in [\"Elie\", \"Tim\", \"Matt\"]:\n",
    "    answer2.append(name[0])\n",
    "print(answer2)"
   ]
  },
  {
   "cell_type": "code",
   "execution_count": 7,
   "metadata": {},
   "outputs": [
    {
     "name": "stdout",
     "output_type": "stream",
     "text": [
      "[2, 4, 6, 100]\n"
     ]
    }
   ],
   "source": [
    "#list numbers if even\n",
    "answer2 = [num for num in [1,2,3,4,5,6,99,100] if num % 2==0]\n",
    "print(answer2)"
   ]
  },
  {
   "cell_type": "code",
   "execution_count": 5,
   "metadata": {},
   "outputs": [
    {
     "name": "stdout",
     "output_type": "stream",
     "text": [
      "[3, 4]\n"
     ]
    }
   ],
   "source": [
    "#List only overlapping #s - list comprehension version:\n",
    "\n",
    "answer = [num for num in [1,2,3,4,] if num in [3,4,5,6]]\n",
    "print(answer)\n",
    "\n",
    "# # list only overlapping #s - for loop version\n",
    "\n",
    "answer = []\n",
    "for x in [1,2,3,6]:\n",
    "    if x in [3,4,5,6]:\n",
    "        answer.append(x)\n",
    "print(answer)"
   ]
  },
  {
   "cell_type": "code",
   "execution_count": 6,
   "metadata": {},
   "outputs": [
    {
     "name": "stdout",
     "output_type": "stream",
     "text": [
      "['eile', 'mit', 'ttam']\n"
     ]
    }
   ],
   "source": [
    "#reverse names and lower case\n",
    "\n",
    "answer2 = [person[::-1].lower() for person in [\"Elie\", \"Tim\", \"Matt\"]]\n",
    "print(answer2)\n",
    "\n",
    "\n",
    "##reverse list\n",
    "# nums = [1, 2, 3, 4]\n",
    "# nums2=nums[::-1]\n",
    "# print(nums2)"
   ]
  },
  {
   "cell_type": "code",
   "execution_count": 7,
   "metadata": {},
   "outputs": [
    {
     "name": "stdout",
     "output_type": "stream",
     "text": [
      "[12, 24, 36, 48, 60, 72, 84, 96]\n"
     ]
    }
   ],
   "source": [
    "#list nums between 1 and 100 (including divisible by 12)\n",
    "answer =  [num for num in range(1,101) if num % 12 == 0]\n",
    "print(answer)"
   ]
  },
  {
   "cell_type": "code",
   "execution_count": 8,
   "metadata": {},
   "outputs": [
    {
     "name": "stdout",
     "output_type": "stream",
     "text": [
      "['m', 'z', 'n', 'g']\n"
     ]
    }
   ],
   "source": [
    "answer = [let for let in \"amazing\" if let not in \"aeiou\"]\n",
    "print(answer)"
   ]
  },
  {
   "cell_type": "code",
   "execution_count": 1,
   "metadata": {},
   "outputs": [
    {
     "name": "stdout",
     "output_type": "stream",
     "text": [
      "[[0, 1, 2], [0, 1, 2], [0, 1, 2]]\n"
     ]
    }
   ],
   "source": [
    "#list \"[[0,1,2], [0,1,2], [0,1,2]]\"\" (use a nested list comprehension)\n",
    "\n",
    "answer = [[val for val in range(0,3)] for num in range(0,3)]\n",
    "print(answer)"
   ]
  },
  {
   "cell_type": "code",
   "execution_count": 17,
   "metadata": {},
   "outputs": [
    {
     "name": "stdout",
     "output_type": "stream",
     "text": [
      "[[0, 1, 2, 3, 4, 5, 6, 7, 8, 9], [0, 1, 2, 3, 4, 5, 6, 7, 8, 9], [0, 1, 2, 3, 4, 5, 6, 7, 8, 9], [0, 1, 2, 3, 4, 5, 6, 7, 8, 9], [0, 1, 2, 3, 4, 5, 6, 7, 8, 9], [0, 1, 2, 3, 4, 5, 6, 7, 8, 9], [0, 1, 2, 3, 4, 5, 6, 7, 8, 9], [0, 1, 2, 3, 4, 5, 6, 7, 8, 9], [0, 1, 2, 3, 4, 5, 6, 7, 8, 9], [0, 1, 2, 3, 4, 5, 6, 7, 8, 9]]\n"
     ]
    }
   ],
   "source": [
    "answer = [[i for i in range(0,10)] for x in range(0,10)] #i changes #s in list\n",
    "answer2 = answer[0:10] # of items to print\n",
    "print(answer2)"
   ]
  }
 ],
 "metadata": {
  "kernelspec": {
   "display_name": "Python 3",
   "language": "python",
   "name": "python3"
  },
  "language_info": {
   "codemirror_mode": {
    "name": "ipython",
    "version": 3
   },
   "file_extension": ".py",
   "mimetype": "text/x-python",
   "name": "python",
   "nbconvert_exporter": "python",
   "pygments_lexer": "ipython3",
   "version": "3.8.5"
  }
 },
 "nbformat": 4,
 "nbformat_minor": 4
}
