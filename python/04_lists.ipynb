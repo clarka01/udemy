{
 "cells": [
  {
   "cell_type": "code",
   "execution_count": 3,
   "metadata": {},
   "outputs": [
    {
     "name": "stdout",
     "output_type": "stream",
     "text": [
      "purple\n",
      "teal\n",
      "magenta\n",
      "True\n",
      "8.9\n"
     ]
    }
   ],
   "source": [
    "colors =[\"purple\", \"teal\", \"magenta\", True, 8.9]\n",
    "\n",
    "for color in colors:\n",
    "\tprint(color) #prints all values in list \"colors\""
   ]
  },
  {
   "cell_type": "code",
   "execution_count": 5,
   "metadata": {},
   "outputs": [
    {
     "name": "stdout",
     "output_type": "stream",
     "text": [
      "16\n",
      "36\n",
      "4\n",
      "81\n",
      "49\n",
      "100\n"
     ]
    }
   ],
   "source": [
    "numbers = [4,6,2,9,7,10]\n",
    "\t\n",
    "for num in numbers:\n",
    "\tprint(num * num) #squares list"
   ]
  },
  {
   "cell_type": "code",
   "execution_count": 8,
   "metadata": {},
   "outputs": [
    {
     "name": "stdout",
     "output_type": "stream",
     "text": [
      "teal\n",
      "magenta\n",
      "red\n",
      "green\n"
     ]
    }
   ],
   "source": [
    "colors =[\"purple\", \"teal\", \"magenta\", \"red\", \"green\"]\n",
    "\n",
    "index = 1 #1 starts at 2nd color\n",
    "while index < len(colors): #len of colors counts to the end of the list (5 items in this case)\n",
    "\tprint(colors[index]) #square brackets references starting point defined in index =0\n",
    "\tindex +=1 #adds each time for the len(colors) or lenght of list "
   ]
  },
  {
   "cell_type": "code",
   "execution_count": 10,
   "metadata": {},
   "outputs": [
    {
     "name": "stdout",
     "output_type": "stream",
     "text": [
      "1 purple\n",
      "2 teal\n",
      "3 magenta\n",
      "4 red\n",
      "5 green\n"
     ]
    }
   ],
   "source": [
    "colors =[\"purple\", \"teal\", \"magenta\", \"red\", \"green\"]\n",
    "\n",
    "index = 0\n",
    "while index < len(colors):\n",
    "\tprint(f\"{index+1} {colors[index]}\") #1 adds 1 to key of 0\n",
    "\tindex +=1 "
   ]
  },
  {
   "cell_type": "code",
   "execution_count": 13,
   "metadata": {},
   "outputs": [
    {
     "name": "stdout",
     "output_type": "stream",
     "text": [
      "SUPERCALIFRAGILISTICEXPIALIDOCIOUS\n"
     ]
    }
   ],
   "source": [
    "#PRACTICE TEST--------------------------------------------------\n",
    "\n",
    "sounds = [\"super\", \"cali\", \"fragil\", \"istic\", \"expi\", \"ali\", \"docious\"]\n",
    "# Define your code below:\n",
    "result = ''\n",
    "for s in sounds:\n",
    "    result += s.upper()\n",
    "print(result)\n",
    "\n",
    "#can also do upper seperately result = result.upper() # See leson 103 for other solution"
   ]
  },
  {
   "cell_type": "code",
   "execution_count": 21,
   "metadata": {},
   "outputs": [
    {
     "name": "stdout",
     "output_type": "stream",
     "text": [
      "['Done', 'Blue', 'Done2']\n"
     ]
    }
   ],
   "source": [
    "#List Exercise: Create a list called instructors\n",
    "\n",
    "instructors =[]\n",
    "# Add the following strings to the instructors list\n",
    "        # Colt,  Blue, Lisa\n",
    "        \n",
    "instructors.extend([\"Colt\", \"Blue\", \"Lisa\"])\n",
    "\n",
    "# Remove the last value in the list\n",
    "\n",
    "instructors.pop()\n",
    "    \n",
    "# Remove the first value in the list\n",
    "\n",
    "instructors.remove(\"Colt\") # or instructors.pop(0)\n",
    "\n",
    "# Add the string \\\"Done\\\" to the beginning of the list\n",
    "instructors.insert(0, \"Done\")\n",
    "instructors.insert(3,\"Done2\")\n",
    "    \n",
    "# Run the tests to make sure you've done this correctly!\n",
    "\n",
    "print(instructors)\n",
    "  "
   ]
  },
  {
   "cell_type": "code",
   "execution_count": null,
   "metadata": {},
   "outputs": [],
   "source": []
  }
 ],
 "metadata": {
  "kernelspec": {
   "display_name": "Python 3",
   "language": "python",
   "name": "python3"
  },
  "language_info": {
   "codemirror_mode": {
    "name": "ipython",
    "version": 3
   },
   "file_extension": ".py",
   "mimetype": "text/x-python",
   "name": "python",
   "nbconvert_exporter": "python",
   "pygments_lexer": "ipython3",
   "version": "3.8.5"
  }
 },
 "nbformat": 4,
 "nbformat_minor": 2
}
