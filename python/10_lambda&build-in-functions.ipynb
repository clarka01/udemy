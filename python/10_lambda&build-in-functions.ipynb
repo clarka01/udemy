{
 "cells": [
  {
   "cell_type": "code",
   "execution_count": 1,
   "metadata": {},
   "outputs": [
    {
     "data": {
      "text/plain": [
       "7625597484987"
      ]
     },
     "execution_count": 1,
     "metadata": {},
     "output_type": "execute_result"
    }
   ],
   "source": [
    "cube = lambda num: num **3**3\n",
    "\n",
    "cube(3)"
   ]
  },
  {
   "cell_type": "code",
   "execution_count": null,
   "metadata": {},
   "outputs": [],
   "source": [
    "add = lambda x, y: x + y\n",
    "\n",
    "print(add(3, 5))"
   ]
  },
  {
   "cell_type": "code",
   "execution_count": null,
   "metadata": {},
   "outputs": [],
   "source": [
    "# A regular named function\n",
    "def square(num): return num * num\n",
    "\n",
    "# An equivalent lambda, saved to a variable\n",
    "square2 = lambda num: num * num\n",
    "\n",
    "# Another lambda\n",
    "add = lambda a,b: a + b\n",
    "\n",
    "# Executing the lambdas\n",
    "print(square2(7))\n",
    "print(add(3,10))\n",
    "\n",
    "# Notice that the square function has a name, but the two lambdas do not\n",
    "print(square.__name__)\n",
    "print(square2.__name__)\n",
    "print(add.__name__)"
   ]
  },
  {
   "cell_type": "code",
   "execution_count": null,
   "metadata": {},
   "outputs": [],
   "source": [
    "#map function: accepts at least two arguments. \n",
    "#it's ITERABLE (it runs through each item in list)"
   ]
  },
  {
   "cell_type": "code",
   "execution_count": 12,
   "metadata": {},
   "outputs": [
    {
     "data": {
      "text/plain": [
       "['Bob', 'Ted', 'Bill']"
      ]
     },
     "execution_count": 12,
     "metadata": {},
     "output_type": "execute_result"
    }
   ],
   "source": [
    "people = ['bob', 'ted', 'bill']\n",
    "peeps = map(lambda name: name.capitalize(), people)\n",
    "list(peeps)"
   ]
  },
  {
   "cell_type": "code",
   "execution_count": 11,
   "metadata": {},
   "outputs": [
    {
     "data": {
      "text/plain": [
       "[2, 4, 6, 8]"
      ]
     },
     "execution_count": 11,
     "metadata": {},
     "output_type": "execute_result"
    }
   ],
   "source": [
    "#lambda way...\n",
    "\n",
    "nums= [1, 2, 3, 4]\n",
    "doubles = map(lambda x: x*2, nums)\n",
    "list(doubles)"
   ]
  },
  {
   "cell_type": "code",
   "execution_count": 16,
   "metadata": {},
   "outputs": [
    {
     "data": {
      "text/plain": [
       "[2, 4, 6, 8]"
      ]
     },
     "execution_count": 16,
     "metadata": {},
     "output_type": "execute_result"
    }
   ],
   "source": [
    "#function way...\n",
    "\n",
    "nums=[1, 2, 3, 4]\n",
    "\n",
    "def double(x):\n",
    "    return x*2\n",
    "\n",
    "double= map(double, nums) #map asks for function and list...\n",
    "\n",
    "list(double)"
   ]
  },
  {
   "cell_type": "code",
   "execution_count": 37,
   "metadata": {},
   "outputs": [
    {
     "data": {
      "text/plain": [
       "[0, 1, 2]"
      ]
     },
     "execution_count": 37,
     "metadata": {},
     "output_type": "execute_result"
    }
   ],
   "source": [
    "#map exercise......\n",
    "\n",
    "def decrement_list(l):\n",
    "    return list(map(lambda n: n-1, l)) #lamda asks for argument & manipulation of argument...\n",
    "\n",
    "list(decrement_list([1,2,3]))\n"
   ]
  },
  {
   "cell_type": "code",
   "execution_count": 43,
   "metadata": {},
   "outputs": [
    {
     "data": {
      "text/plain": [
       "[2, 4, 6]"
      ]
     },
     "execution_count": 43,
     "metadata": {},
     "output_type": "execute_result"
    }
   ],
   "source": [
    "#filter - takes objeccts and converts into other iterable items\n",
    "\n",
    "l = [1,2,3,4,5,6]\n",
    "\n",
    "evens = list(filter(lambda n: n % 2 == 0, l))\n",
    "\n",
    "list(evens)"
   ]
  },
  {
   "cell_type": "code",
   "execution_count": 3,
   "metadata": {},
   "outputs": [
    {
     "name": "stdout",
     "output_type": "stream",
     "text": [
      "[{'username': 'jeff', 'tweets': []}, {'username': 'bob123', 'tweets': []}, {'username': 'guitar_gal', 'tweets': []}]\n"
     ]
    }
   ],
   "source": [
    "#use FILTER\n",
    "\n",
    "users = [\n",
    "    {\"username\": \"samuel\", \"tweets\": [\"I love cake\", \"I love pie\", \"hello world!\"]},\n",
    "    {\"username\": \"katie\", \"tweets\": [\"I love my cat\"]},\n",
    "    {\"username\": \"jeff\", \"tweets\": []},\n",
    "    {\"username\": \"bob123\", \"tweets\": []},\n",
    "    {\"username\": \"doggo_luvr\", \"tweets\": [\"dogs are the best\", \"I'm hungry\"]},\n",
    "    {\"username\": \"guitar_gal\", \"tweets\": []}\n",
    "]\n",
    "\n",
    "#extract inactive users using filter (don't have to make \"tweets\" = 0):\n",
    "inactive_users = list(filter(lambda u: not u['tweets'], users))\n",
    "\n",
    "print(inactive_users)"
   ]
  },
  {
   "cell_type": "code",
   "execution_count": 4,
   "metadata": {},
   "outputs": [
    {
     "name": "stdout",
     "output_type": "stream",
     "text": [
      "['JEFF', 'BOB123', 'GUITAR_GAL']\n"
     ]
    }
   ],
   "source": [
    "## combining MAP & FILTER\n",
    "\n",
    "users = [\n",
    "    {\"username\": \"samuel\", \"tweets\": [\"I love cake\", \"I love pie\", \"hello world!\"]},\n",
    "    {\"username\": \"katie\", \"tweets\": [\"I love my cat\"]},\n",
    "    {\"username\": \"jeff\", \"tweets\": []},\n",
    "    {\"username\": \"bob123\", \"tweets\": []},\n",
    "    {\"username\": \"doggo_luvr\", \"tweets\": [\"dogs are the best\", \"I'm hungry\"]},\n",
    "    {\"username\": \"guitar_gal\", \"tweets\": []}\n",
    "]\n",
    "\n",
    "# # extract usernames of inactive users w/ map and filter:\n",
    "usernames = list(map(lambda user: user[\"username\"].upper(), \n",
    "\tfilter(lambda u: not u['tweets'], users)))\n",
    "\n",
    "print(usernames)"
   ]
  },
  {
   "cell_type": "code",
   "execution_count": 19,
   "metadata": {},
   "outputs": [
    {
     "name": "stdout",
     "output_type": "stream",
     "text": [
      "['JEFF', 'BOB123', 'GUITAR_GAL']\n"
     ]
    }
   ],
   "source": [
    "#### USING LIST COMPREHENTION...better option\n",
    "users = [\n",
    "\t{\"username\": \"samuel\", \"tweets\": [\"I love cake\", \"I love pie\", \"hello world!\"]},\n",
    "\t{\"username\": \"katie\", \"tweets\": [\"I love my cat\"]},\n",
    "\t{\"username\": \"jeff\", \"tweets\": []},\n",
    "\t{\"username\": \"bob123\", \"tweets\": []},\n",
    "\t{\"username\": \"doggo_luvr\", \"tweets\": [\"dogs are the best\", \"I'm hungry\"]},\n",
    "\t{\"username\": \"guitar_gal\", \"tweets\": []}\n",
    "]\n",
    "# #extract inactive users using list comprehension:\n",
    "inactive_users2= [user[\"username\"].upper() for user in users if user[\"tweets\"]==[]] #or \"if not user ['tweets']\"\n",
    "\n",
    "print(inactive_users2)"
   ]
  },
  {
   "cell_type": "code",
   "execution_count": 36,
   "metadata": {},
   "outputs": [
    {
     "name": "stdout",
     "output_type": "stream",
     "text": [
      "[0, 1, 2]\n"
     ]
    }
   ],
   "source": [
    "def remove_negatives(nums):\n",
    "    return list(filter(lambda l:l >=0, nums))\n",
    "\n",
    "print(remove_negatives([-2,-1,0,1,2]))"
   ]
  },
  {
   "cell_type": "code",
   "execution_count": null,
   "metadata": {},
   "outputs": [],
   "source": [
    "import tkinter as tk\n",
    "# DON'T WORRY ABOUT ANY OF THIS CODE\n",
    "root = tk.Tk()#=====================\n",
    "frame = tk.Frame(root)#=============\n",
    "frame.pack()#=======================\n",
    "# DON'T WORRY ABOUT ANY OF THIS CODE\n",
    "\n",
    "# Don't need this function if we use a lambda \n",
    "# def say_hi():\n",
    "#     print(\"HELLO!\")\n",
    "\n",
    "button = tk.Button(frame, \n",
    "                   text=\"CLICK ME\", \n",
    "                   fg=\"red\",\n",
    "                   command=lambda: print(\"Hello\"))\n",
    "\n",
    "\n",
    "\n",
    "# DON'T WORRY ABOUT ANY OF THIS CODE\n",
    "button.pack(side=tk.LEFT) #=========\n",
    "root.mainloop() #===================\n",
    "# DON'T WORRY ABOUT ANY OF THIS CODE"
   ]
  },
  {
   "cell_type": "code",
   "execution_count": 41,
   "metadata": {},
   "outputs": [
    {
     "data": {
      "text/plain": [
       "False"
      ]
     },
     "execution_count": 41,
     "metadata": {},
     "output_type": "execute_result"
    }
   ],
   "source": [
    "#any/all functions -- ALL \n",
    "\n",
    "people = ['charlie', 'chuck', 'chase']\n",
    "\n",
    "all([name[0]=='c' for name in people])\n",
    "\n",
    "people.append('kristy')\n",
    "\n",
    "all([name[0]=='c' for name in people]) #returns True false for entire list\n",
    "#[name[0]=='c' for name in people] #w/o all in front, returns list of True/False"
   ]
  },
  {
   "cell_type": "code",
   "execution_count": 43,
   "metadata": {},
   "outputs": [
    {
     "data": {
      "text/plain": [
       "True"
      ]
     },
     "execution_count": 43,
     "metadata": {},
     "output_type": "execute_result"
    }
   ],
   "source": [
    "#any --return if ANY item in iterable is true\n",
    "\n",
    "people = ['charlie', 'chuck', 'chase']\n",
    "\n",
    "people.append('kristy')\n",
    "\n",
    "any([name[0]=='k' for name in people])\n",
    "\n",
    "##DO NOT NEED TO USE LIST COMPREHENSSION BRACKETS. \n",
    "##See https://stackoverflow.com/questions/47789/generator-expressions-vs-list-comprehension\n",
    "\n",
    "#if we never use it again --don't need list comprehension"
   ]
  },
  {
   "cell_type": "code",
   "execution_count": 44,
   "metadata": {},
   "outputs": [
    {
     "name": "stdout",
     "output_type": "stream",
     "text": [
      "To do the same thing, it takes...\n",
      "List Comprehension: 9016 bytes\n",
      "Generator Expression: 112 bytes\n"
     ]
    }
   ],
   "source": [
    "## Generator Expressions\n",
    "\n",
    "##DO NOT NEED TO USE LIST COMPREHENSSION BRACKETS. \n",
    "##See https://stackoverflow.com/questions/47789/generator-expressions-vs-list-comprehension\n",
    "\n",
    "#if we never use it again --don't need list comprehension\n",
    "\n",
    "import sys\n",
    "# A simple comparison of size (in Bytes)\n",
    "list_comp = sys.getsizeof([x * 10 for x in range(1000)])\n",
    "gen_exp = sys.getsizeof(x * 10 for x in range(1000))\n",
    "\n",
    "print(\"To do the same thing, it takes...\")\n",
    "print(f\"List Comprehension: {list_comp} bytes\")\n",
    "print(f\"Generator Expression: {gen_exp} bytes\")\n"
   ]
  },
  {
   "cell_type": "code",
   "execution_count": 59,
   "metadata": {},
   "outputs": [
    {
     "name": "stdout",
     "output_type": "stream",
     "text": [
      "True\n"
     ]
    }
   ],
   "source": [
    "#Any/All Exercise\n",
    "\n",
    "def is_all_strings(l):\n",
    "    return all([type(i) == str for i in l])\n",
    "print(is_all_strings(['x','y']))"
   ]
  },
  {
   "cell_type": "code",
   "execution_count": 64,
   "metadata": {},
   "outputs": [
    {
     "name": "stdout",
     "output_type": "stream",
     "text": [
      "[1, 4, 6, 23, 30, 55]\n",
      "[55, 30, 23, 6, 4, 1]\n",
      "[4, 6, 1, 30, 55, 23]\n"
     ]
    }
   ],
   "source": [
    "# SORTED function - works on anything that is iterable. sorts\n",
    "\n",
    "nums = [4,6,1,30,55,23]\n",
    "\n",
    "print(sorted(nums))\n",
    "print(sorted(nums, reverse=True))\n",
    "print(nums)\n",
    "\n",
    "##ACCPETS TUPLES TOO"
   ]
  },
  {
   "cell_type": "code",
   "execution_count": 73,
   "metadata": {},
   "outputs": [
    {
     "data": {
      "text/plain": [
       "[{'username': 'samuel',\n",
       "  'tweets': ['I love cake', 'I love pie', 'hello world!']},\n",
       " {'username': 'doggo_luvr', 'tweets': ['dogs are the best', \"I'm hungry\"]},\n",
       " {'username': 'katie', 'tweets': ['I love my cat']},\n",
       " {'username': 'jeff', 'tweets': []},\n",
       " {'username': 'bob123', 'tweets': []},\n",
       " {'username': 'guitar_gal', 'tweets': []}]"
      ]
     },
     "execution_count": 73,
     "metadata": {},
     "output_type": "execute_result"
    }
   ],
   "source": [
    "##### SORT ON DICTIONARIES\n",
    "\n",
    "users = [\n",
    "\t{\"username\": \"samuel\", \"tweets\": [\"I love cake\", \"I love pie\", \"hello world!\"]},\n",
    "\t{\"username\": \"katie\", \"tweets\": [\"I love my cat\"]},\n",
    "\t{\"username\": \"jeff\", \"tweets\": []},\n",
    "\t{\"username\": \"bob123\", \"tweets\": []},\n",
    "\t{\"username\": \"doggo_luvr\", \"tweets\": [\"dogs are the best\", \"I'm hungry\"]},\n",
    "\t{\"username\": \"guitar_gal\", \"tweets\": []}\n",
    "]\n",
    "        \n",
    "#sorted(users, key=lambda user: user['username']) #passes based on lambda information\n",
    "\n",
    "sorted(users, key=lambda user: len(user['tweets']), reverse=True) #sort by length of user tweets\n"
   ]
  },
  {
   "cell_type": "code",
   "execution_count": 74,
   "metadata": {},
   "outputs": [
    {
     "data": {
      "text/plain": [
       "[{'title': 'happy birthday', 'playcount': 1},\n",
       " {'title': 'Survive', 'playcount': 6},\n",
       " {'title': 'Toxic', 'playcount': 31},\n",
       " {'title': 'YMCA', 'playcount': 99}]"
      ]
     },
     "execution_count": 74,
     "metadata": {},
     "output_type": "execute_result"
    }
   ],
   "source": [
    "# SORTED - ANOTHER EXAMPLE DATA SET==================================\n",
    "songs = [\n",
    "\t{\"title\": \"happy birthday\", \"playcount\": 1},\n",
    "\t{\"title\": \"Survive\", \"playcount\": 6},\n",
    "\t{\"title\": \"YMCA\", \"playcount\": 99},\n",
    "\t{\"title\": \"Toxic\", \"playcount\": 31}\n",
    "]\n",
    "\n",
    "# To sort songs by playcount\n",
    "sorted(songs, key=lambda s: s['playcount'])"
   ]
  },
  {
   "cell_type": "code",
   "execution_count": 83,
   "metadata": {},
   "outputs": [
    {
     "name": "stdout",
     "output_type": "stream",
     "text": [
      "6\n",
      "3\n",
      "w\n",
      "a\n"
     ]
    },
    {
     "data": {
      "text/plain": [
       "'YMCA'"
      ]
     },
     "execution_count": 83,
     "metadata": {},
     "output_type": "execute_result"
    }
   ],
   "source": [
    "### MIN/MAX\n",
    "\n",
    "a=[3,5,6]\n",
    "print(max(a))\n",
    "print(min(a))\n",
    "\n",
    "b='whattupppp'\n",
    "print(max(b))\n",
    "print(min(b))\n",
    "\n",
    "names = ['Arya', \"Samson\", \"Dora\", \"Tim\", \"Ollivander\"]\n",
    "\n",
    "# finds the minimum length of a name in names\n",
    "min(len(name) for name in names) # 3\n",
    "\n",
    "# find the longest name itself\n",
    "max(names, key=lambda n:len(n)) #Ollivander\n",
    "\n",
    "songs = [\n",
    "\t{\"title\": \"happy birthday\", \"playcount\": 1},\n",
    "\t{\"title\": \"Survive\", \"playcount\": 6},\n",
    "\t{\"title\": \"YMCA\", \"playcount\": 99},\n",
    "\t{\"title\": \"Toxic\", \"playcount\": 31}\n",
    "]\n",
    "\n",
    "# Finds the song with the lowerest playcount\n",
    "min(songs, key=lambda s: s['playcount']) #{\"title\": \"happy birthday\", \"playcount\": 1}\n",
    "\n",
    "# Finds the title of the most played song\n",
    "max(songs, key=lambda s: s['playcount'])['title'] #YMCA, returns only title of most played song\n"
   ]
  },
  {
   "cell_type": "code",
   "execution_count": 90,
   "metadata": {},
   "outputs": [
    {
     "name": "stdout",
     "output_type": "stream",
     "text": [
      "(3, 1)\n"
     ]
    }
   ],
   "source": [
    "###Min/Max Exercise\n",
    "\n",
    "def extremes(l):\n",
    "    return(max(l), min(l))\n",
    "print(extremes([1,2,3]))"
   ]
  },
  {
   "cell_type": "code",
   "execution_count": 98,
   "metadata": {},
   "outputs": [
    {
     "name": "stdout",
     "output_type": "stream",
     "text": [
      "d\n",
      "l\n",
      "r\n",
      "o\n",
      "w\n",
      " \n",
      "o\n",
      "l\n",
      "l\n",
      "e\n",
      "h\n",
      "olleh\n",
      "['o', 'l', 'l', 'e', 'h']\n",
      "olleh\n",
      "9\n",
      "8\n",
      "7\n",
      "6\n",
      "5\n",
      "4\n",
      "3\n",
      "2\n",
      "1\n",
      "0\n"
     ]
    }
   ],
   "source": [
    "### REVERSED - not reverse()\n",
    "\n",
    "for char in reversed(\"hello world\"):\n",
    "    print(char)\n",
    "    \n",
    "print('hello'[::-1])\n",
    "\n",
    "print(list(reversed('hello')))\n",
    "print(''.join(list(reversed(\"hello\"))))\n",
    "\n",
    "for x in reversed(range(0,10)):\n",
    "    print(x)"
   ]
  },
  {
   "cell_type": "code",
   "execution_count": 1,
   "metadata": {},
   "outputs": [
    {
     "data": {
      "text/plain": [
       "8"
      ]
     },
     "execution_count": 1,
     "metadata": {},
     "output_type": "execute_result"
    }
   ],
   "source": [
    "len('asdf;lkj') #8\n",
    "#this was a preview into OOP, and \"dunder\"\n"
   ]
  },
  {
   "cell_type": "code",
   "execution_count": 32,
   "metadata": {},
   "outputs": [
    {
     "name": "stdout",
     "output_type": "stream",
     "text": [
      "13\n",
      "13.0\n",
      "17\n",
      "20.9\n",
      "25\n",
      "6.0\n",
      "hi there\n",
      "2\n",
      "3\n",
      "3.12341\n"
     ]
    }
   ],
   "source": [
    "#abs(), sum(), round()\n",
    "\n",
    "print(abs(-13)) #returns absolute value of int/float\n",
    "\n",
    "import math\n",
    "print(math.fabs(-13)) #fabs returns float of abs value\n",
    "\n",
    "print(sum([1,2,3], 11)) #adds list to 10\n",
    "print(sum((1,2,3,4.9),10)) #adds tuples\n",
    "print(sum({1,2,3,4,5},10)) #adds sets\n",
    "print(math.fsum([1,2,3])) #floats sum\n",
    "\n",
    "print(''.join(['hi', ' ', 'there'])) # \"sums\" strings\n",
    "\n",
    "####round\n",
    "\n",
    "print(round(2.5)) #2\n",
    "print(round(2.51)) #3\n",
    "print(round(3.123412341234, 5)) #3.12341"
   ]
  },
  {
   "cell_type": "code",
   "execution_count": 17,
   "metadata": {},
   "outputs": [
    {
     "name": "stdout",
     "output_type": "stream",
     "text": [
      "15\n"
     ]
    }
   ],
   "source": [
    "print(sum({1,2,3,4,5})) #adds sets\n"
   ]
  },
  {
   "cell_type": "code",
   "execution_count": 37,
   "metadata": {},
   "outputs": [
    {
     "name": "stdout",
     "output_type": "stream",
     "text": [
      "10\n"
     ]
    }
   ],
   "source": [
    "#largest absolute number (farthest from 0)\n",
    "\n",
    "def max_magnitude(nums):\n",
    "    return max(abs(num) for num in nums)\n",
    "\n",
    "print(max_magnitude([-10,1,2,3]))"
   ]
  },
  {
   "cell_type": "code",
   "execution_count": 43,
   "metadata": {},
   "outputs": [
    {
     "name": "stdout",
     "output_type": "stream",
     "text": [
      "12\n"
     ]
    }
   ],
   "source": [
    "#sums all even numbers in list:\n",
    "    \n",
    "def sum_even_values(*nums):\n",
    "    return sum(num for num in nums if num % 2==0)\n",
    "\n",
    "print(sum_even_values(1,2,3,4,5,6))"
   ]
  },
  {
   "cell_type": "code",
   "execution_count": 49,
   "metadata": {},
   "outputs": [
    {
     "name": "stdout",
     "output_type": "stream",
     "text": [
      "2.5\n"
     ]
    }
   ],
   "source": [
    "def sum_floats(*args):\n",
    "    return sum(a for a in args if type(a)==float)\n",
    "\n",
    "print(sum_floats(\"what\", 1.0, 1.5, 3, \"is going on?\"))"
   ]
  },
  {
   "cell_type": "code",
   "execution_count": 66,
   "metadata": {},
   "outputs": [
    {
     "name": "stdout",
     "output_type": "stream",
     "text": [
      "[(1, 6), (2, 7), (3, 8), (4, 9), (5, 10)]\n",
      "{1: 6, 2: 7, 3: 8, 4: 9, 5: 10}\n",
      "<class 'list'>\n",
      "<class 'dict'>\n",
      "[(1, 2, 3, 4, 5), (6, 7, 8, 9, 10)]\n"
     ]
    }
   ],
   "source": [
    "####....ZIP....takes two list and takes position 0,0 then 1,1 then 2,2, etc. and turns them to list of tuples, or dict\n",
    "\n",
    "nums1 = [1, 2, 3, 4, 5]\n",
    "nums2 = [6, 7, 8, 9, 10] #stops if there are additional values in one list\n",
    "\n",
    "z = list(zip(nums1, nums2))\n",
    "\n",
    "print(z)\n",
    "print(dict(z))\n",
    "\n",
    "y = dict(z)\n",
    "print(type(z))\n",
    "print(type(y))\n",
    "\n",
    "print(list(zip(*z))) #unpacks tuple pairs as two tuples"
   ]
  },
  {
   "cell_type": "code",
   "execution_count": 73,
   "metadata": {},
   "outputs": [
    {
     "name": "stdout",
     "output_type": "stream",
     "text": [
      "{'dan': 98, 'ang': 91, 'kate': 78}\n",
      "{'dan': 98, 'ang': 91, 'kate': 78}\n",
      "{'dan': 89.0, 'ang': 90.0, 'kate': 65.5}\n"
     ]
    }
   ],
   "source": [
    "####....ZIP....(MORE COMPLEX)\n",
    "\n",
    "midterms = [80,91,78]\n",
    "finals = [98,89,53]\n",
    "students = ['dan', 'ang', 'kate']\n",
    "\n",
    "\n",
    "# returns dict with {student:highest score} USING DICT COMP\n",
    "# {'dan': 98, 'ang': 91, 'kate': 78}\n",
    "final_grades = {t[0]:max(t[1], t[2]) for t in zip(students, midterms, finals)}\n",
    "\n",
    "print(final_grades)\n",
    "\n",
    "#################################### ZIP using MAP and LAMBDA\n",
    "\n",
    "# returns dict with {student:highest score} (same thing as above) USING MAP+LAMBDA\n",
    "# {'dan': 98, 'ang': 91, 'kate': 78}\n",
    "final_grades2 = dict(\n",
    "    zip(\n",
    "        students,\n",
    "        map(\n",
    "            lambda pair: max(pair),\n",
    "            zip(midterms, finals)\n",
    "        )\n",
    "    )\n",
    ")\n",
    "\n",
    "print(final_grades2)\n",
    "\n",
    "\n",
    "####gets average grades:\n",
    "\n",
    "avg_grades = dict(\n",
    "\tzip(\n",
    "\t\tstudents,\n",
    "\t\tmap(\n",
    "\t\t\tlambda pair: ((pair[0]+pair[1])/2),\n",
    "\t\t\tzip(midterms, finals)\n",
    "\t\t)\n",
    "\t)\n",
    ")\n",
    "\n",
    "print(avg_grades)\n"
   ]
  },
  {
   "cell_type": "code",
   "execution_count": 79,
   "metadata": {},
   "outputs": [
    {
     "name": "stdout",
     "output_type": "stream",
     "text": [
      "hnio\n"
     ]
    }
   ],
   "source": [
    "#zip two numbers (use join because they are lists)\n",
    "def interleave(str1,str2):\n",
    "    return ''.join(''.join(x) for x in (zip(str1,str2)))\n",
    "\n",
    "print(interleave('hi', 'no'))"
   ]
  },
  {
   "cell_type": "code",
   "execution_count": 100,
   "metadata": {},
   "outputs": [
    {
     "name": "stdout",
     "output_type": "stream",
     "text": [
      "[('h', 'n'), ('i', 'o')]\n",
      "hnio\n"
     ]
    }
   ],
   "source": [
    "str1='hi'\n",
    "str2='no'\n",
    "print(list(zip(str1,str2)))\n",
    "print(''.join(''.join(x) for x in list(zip(str1,str2))))\n"
   ]
  },
  {
   "cell_type": "code",
   "execution_count": 95,
   "metadata": {},
   "outputs": [
    {
     "name": "stdout",
     "output_type": "stream",
     "text": [
      "[12, 24]\n"
     ]
    }
   ],
   "source": [
    "#take all numbers from list that are divisible by 4, and tripple them.\n",
    "\n",
    "def triple_and_filter(lst):\n",
    "    return list(filter(lambda x: x % 4 == 0, map(lambda x: x*3, lst))) #becuase it's nested, filter reads the list from maps\n",
    "\n",
    "print(triple_and_filter([1,2,3,4,5,6,7,8]))"
   ]
  },
  {
   "cell_type": "code",
   "execution_count": 106,
   "metadata": {},
   "outputs": [
    {
     "name": "stdout",
     "output_type": "stream",
     "text": [
      "['Elie Schoppik', 'Colt Steele']\n"
     ]
    }
   ],
   "source": [
    "##combines first and last name in kv pairs\n",
    "\n",
    "names = [{'first': 'Elie', 'last': 'Schoppik'}, {'first': 'Colt', 'last': 'Steele'}]\n",
    "\n",
    "def extract_full_name(l):\n",
    "    return list(map(lambda val: f\"{val['first']} {val['last']}\", l))\n",
    "\n",
    "print(extract_full_name(names))"
   ]
  },
  {
   "cell_type": "code",
   "execution_count": null,
   "metadata": {},
   "outputs": [],
   "source": []
  }
 ],
 "metadata": {
  "kernelspec": {
   "display_name": "Python 3",
   "language": "python",
   "name": "python3"
  },
  "language_info": {
   "codemirror_mode": {
    "name": "ipython",
    "version": 3
   },
   "file_extension": ".py",
   "mimetype": "text/x-python",
   "name": "python",
   "nbconvert_exporter": "python",
   "pygments_lexer": "ipython3",
   "version": "3.8.5"
  }
 },
 "nbformat": 4,
 "nbformat_minor": 4
}
