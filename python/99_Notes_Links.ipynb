{
 "cells": [
  {
   "cell_type": "code",
   "execution_count": null,
   "metadata": {},
   "outputs": [],
   "source": [
    "    #PEP8 STYLE GUIDE - https://www.python.org/dev/peps/pep-0008/\\n\",\n",
    "    #to beautify code run 'autopep8 --in-place filename.py' (see 11-96 t=2:30)\""
   ]
  },
  {
   "cell_type": "code",
   "execution_count": null,
   "metadata": {},
   "outputs": [],
   "source": [
    "#to change .py to .ipynb\n",
    "    #1. open anaconda prompt\n",
    "    #2. cd C:\\Users\\clark\\Desktop\\Python\\Python_Scripts\n",
    "    #3. p2j FILENAME.py\n",
    "    #4. <ENTER>"
   ]
  }
 ],
 "metadata": {
  "kernelspec": {
   "display_name": "Python 3",
   "language": "python",
   "name": "python3"
  },
  "language_info": {
   "codemirror_mode": {
    "name": "ipython",
    "version": 3
   },
   "file_extension": ".py",
   "mimetype": "text/x-python",
   "name": "python",
   "nbconvert_exporter": "python",
   "pygments_lexer": "ipython3",
   "version": "3.8.5"
  }
 },
 "nbformat": 4,
 "nbformat_minor": 2
}
