{
 "cells": [
  {
   "cell_type": "code",
   "execution_count": 3,
   "metadata": {},
   "outputs": [
    {
     "name": "stdout",
     "output_type": "stream",
     "text": [
      "0.3333333333333333\n",
      "daisy\n",
      "45\n"
     ]
    }
   ],
   "source": [
    "print(1/3) #division retunrs float, even when dividing two ints\n",
    "name=\"daisy\"\n",
    "print(name)\n",
    "print(43 + 1 + 1)"
   ]
  },
  {
   "cell_type": "code",
   "execution_count": null,
   "metadata": {},
   "outputs": [],
   "source": [
    "#mileage calculator\n",
    "\n",
    "print(\"How many km did you run today?\")\n",
    "kms = input()\n",
    "miles = float(kms)/1.60934 #turns str/int into float\n",
    "miles = round(miles,2) #founds miles to 2 (outside of f-string)\n",
    "print(f\"your {kms} ride equates to {miles}miles\")\n",
    "\n",
    "# thomas input(\"\")\n",
    "\n",
    "# round(thing to round, how many decimal points)"
   ]
  },
  {
   "cell_type": "code",
   "execution_count": 4,
   "metadata": {},
   "outputs": [
    {
     "name": "stdout",
     "output_type": "stream",
     "text": [
      "What's your favorite color?blue\n",
      "You said blue\n"
     ]
    }
   ],
   "source": [
    "data = input(\"What's your favorite color?\")\n",
    "print(\"You said \" + data)\n",
    "\n",
    "#longer version\n",
    "# print(\"What's your favorite color?\")\n",
    "# data = input()\n",
    "# print(\"You said \" + data)"
   ]
  },
  {
   "cell_type": "code",
   "execution_count": 5,
   "metadata": {},
   "outputs": [
    {
     "name": "stdout",
     "output_type": "stream",
     "text": [
      "What's your favorite color?asdf\n",
      "You said asdf\n"
     ]
    }
   ],
   "source": [
    "# f-string\n",
    "\n",
    "data = input(\"What's your favorite color?\")\n",
    "print(f\"You said {data}\")\n",
    "\n",
    "##f-string (python <= python 2.7\n",
    "\n",
    "# data = input(\"What's your favorite color?\")\n",
    "# print('You said {}'.format(data))"
   ]
  },
  {
   "cell_type": "code",
   "execution_count": null,
   "metadata": {},
   "outputs": [],
   "source": [
    "#color 2\n",
    "\n",
    "color = input(\"What's your favorite color?\")\n",
    "if color == 'purple':\n",
    "\tprint(\"excellent choice!\")\n",
    "elif color == 'teal':\n",
    "    print(\"not bad!\")\n",
    "elif color == 'seafoam':\n",
    "    print(\"mediocre\")\n",
    "elif color == 'pure darkness':\n",
    "    print(\"I like how you think\")\n",
    "else: \n",
    "\tprint(\"YOU MONSTER!\")"
   ]
  },
  {
   "cell_type": "code",
   "execution_count": null,
   "metadata": {},
   "outputs": [],
   "source": [
    "#if statements:\n",
    "\n",
    "print(\"what is the name?\")\n",
    "name=input()\n",
    "if name == \"arya stark\":\n",
    "\tprint(\"valar Morghulis\")\n",
    "elif name == \"jon snow\":\n",
    "\tprint (\"you know nothing\")\n",
    "else:\n",
    "\tprint(\"carry on\")"
   ]
  },
  {
   "cell_type": "code",
   "execution_count": null,
   "metadata": {},
   "outputs": [],
   "source": [
    "#Truthiness\n",
    "\n",
    "animal = input(\"enter fav animal\")\n",
    "if animal:\n",
    "    print(animal + \" is my favorite animal, too!\")\n",
    "else:\n",
    "\tprint(\"you didn't enter\")"
   ]
  },
  {
   "cell_type": "code",
   "execution_count": null,
   "metadata": {},
   "outputs": [],
   "source": [
    "#or Clause\n",
    "\n",
    "city = input(\"where do you live\")\n",
    "if city==\"los angeles\" or city==\"san francisco\":\n",
    "\tprint(\"california\")\n",
    "else:\n",
    "\tprint(\"you live elsewhere\")"
   ]
  },
  {
   "cell_type": "code",
   "execution_count": 12,
   "metadata": {},
   "outputs": [
    {
     "name": "stdout",
     "output_type": "stream",
     "text": [
      "how old are you?21\n",
      "you pay $10\n"
     ]
    }
   ],
   "source": [
    "#not/And clauses\n",
    "\n",
    "age=int(input(\"how old are you?\"))\n",
    "# 2-8 $2 ticket\n",
    "#<65 $5 ticket\n",
    "#$10 for everyone else\n",
    "if not((age>=2 and age <=8)) or age >=65:\n",
    "\tprint(\"you pay $10\")\n",
    "else:\n",
    "\tprint(\"you are a child or senior\")"
   ]
  },
  {
   "cell_type": "code",
   "execution_count": 16,
   "metadata": {},
   "outputs": [
    {
     "name": "stdout",
     "output_type": "stream",
     "text": [
      "how old?12\n",
      "no entry\n"
     ]
    }
   ],
   "source": [
    "age=input(\"how old?\")\n",
    "\n",
    "if age:\n",
    "\tage=int(age)\n",
    "\tif age >=18 and age <21:\n",
    "\t\tprint (\"need wristband\")\n",
    "\telif age >=21:\n",
    "\t\tprint(\"in and drink\")\n",
    "\telif age <18:\n",
    "\t\tprint(\"no entry\")\n",
    "\telse: \n",
    "\t\tprint(\"enter age\")\n",
    "#no entry under 18, wristband 18-20, 21 entry and drink"
   ]
  },
  {
   "cell_type": "code",
   "execution_count": null,
   "metadata": {},
   "outputs": [],
   "source": []
  },
  {
   "cell_type": "code",
   "execution_count": null,
   "metadata": {},
   "outputs": [],
   "source": []
  }
 ],
 "metadata": {
  "kernelspec": {
   "display_name": "Python 3",
   "language": "python",
   "name": "python3"
  },
  "language_info": {
   "codemirror_mode": {
    "name": "ipython",
    "version": 3
   },
   "file_extension": ".py",
   "mimetype": "text/x-python",
   "name": "python",
   "nbconvert_exporter": "python",
   "pygments_lexer": "ipython3",
   "version": "3.8.5"
  }
 },
 "nbformat": 4,
 "nbformat_minor": 4
}
