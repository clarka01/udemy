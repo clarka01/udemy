{
 "cells": [
  {
   "cell_type": "code",
   "execution_count": 1,
   "metadata": {},
   "outputs": [],
   "source": [
    "#in command line/shell\n",
    "\n",
    "#import requests\n",
    "\n",
    "#res = requests.get(\"https://......com/\")\n",
    "\n",
    "# res.ok\n",
    "# res.headers\n",
    "#res\n",
    "\n",
    "# # "
   ]
  },
  {
   "cell_type": "code",
   "execution_count": 2,
   "metadata": {},
   "outputs": [
    {
     "name": "stdout",
     "output_type": "stream",
     "text": [
      "your request to http://www.google.com came back w/ status code 200\n"
     ]
    }
   ],
   "source": [
    "import requests\n",
    "url = \"http://www.google.com\"\n",
    "response = requests.get(url)\n",
    "\n",
    "print(f\"your request to {url} came back w/ status code {response.status_code}\")\n",
    "\n",
    "#print(response.text)"
   ]
  },
  {
   "cell_type": "code",
   "execution_count": 3,
   "metadata": {},
   "outputs": [
    {
     "name": "stdout",
     "output_type": "stream",
     "text": [
      "I went to the doctor today and he told me I had type A blood but it was a type O.\n",
      "status: 200\n"
     ]
    }
   ],
   "source": [
    "import requests\n",
    "url = \"https://icanhazdadjoke.com/\"\n",
    "\n",
    "response = requests.get(url, headers={\"Accept\": \"application/json\"}) #other options are: \"text/html\" & \"text/plain\"\n",
    "\n",
    "data = response.json()\n",
    "# data = response.text()\n",
    "\n",
    "\n",
    "print(data[\"joke\"])\n",
    "print(f\"status: {data['status']}\")"
   ]
  },
  {
   "cell_type": "code",
   "execution_count": 4,
   "metadata": {},
   "outputs": [
    {
     "name": "stdout",
     "output_type": "stream",
     "text": [
      "[{'id': '8UnrHe2T0g', 'joke': '‘Put the cat out’ … ‘I didn’t realize it was on fire'}]\n"
     ]
    }
   ],
   "source": [
    "import requests\n",
    "url = \"https://icanhazdadjoke.com/search\"\n",
    "\n",
    "response = requests.get(\n",
    "\turl, \n",
    "\theaders={\"Accept\": \"application/json\"},\n",
    "\tparams={\"term\": \"cat\", \"limit\": 1}\n",
    ")\n",
    "\n",
    "data = response.json()\n",
    "print(data[\"results\"])\n"
   ]
  },
  {
   "cell_type": "code",
   "execution_count": 5,
   "metadata": {},
   "outputs": [
    {
     "ename": "ModuleNotFoundError",
     "evalue": "No module named 'pyfiglet'",
     "output_type": "error",
     "traceback": [
      "\u001b[1;31m---------------------------------------------------------------------------\u001b[0m",
      "\u001b[1;31mModuleNotFoundError\u001b[0m                       Traceback (most recent call last)",
      "\u001b[1;32m<ipython-input-5-5f950aa66a5e>\u001b[0m in \u001b[0;36m<module>\u001b[1;34m\u001b[0m\n\u001b[0;32m      3\u001b[0m \u001b[1;33m\u001b[0m\u001b[0m\n\u001b[0;32m      4\u001b[0m \u001b[1;32mimport\u001b[0m \u001b[0mrequests\u001b[0m\u001b[1;33m\u001b[0m\u001b[1;33m\u001b[0m\u001b[0m\n\u001b[1;32m----> 5\u001b[1;33m \u001b[1;32mimport\u001b[0m \u001b[0mpyfiglet\u001b[0m\u001b[1;33m\u001b[0m\u001b[1;33m\u001b[0m\u001b[0m\n\u001b[0m\u001b[0;32m      6\u001b[0m \u001b[1;32mimport\u001b[0m \u001b[0mtermcolor\u001b[0m\u001b[1;33m\u001b[0m\u001b[1;33m\u001b[0m\u001b[0m\n\u001b[0;32m      7\u001b[0m \u001b[1;32mfrom\u001b[0m \u001b[0mrandom\u001b[0m \u001b[1;32mimport\u001b[0m \u001b[0mchoice\u001b[0m\u001b[1;33m\u001b[0m\u001b[1;33m\u001b[0m\u001b[0m\n",
      "\u001b[1;31mModuleNotFoundError\u001b[0m: No module named 'pyfiglet'"
     ]
    }
   ],
   "source": [
    "##DAD Jokes \n",
    "\n",
    "\n",
    "import requests\n",
    "import pyfiglet\n",
    "import termcolor\n",
    "from random import choice\n",
    "\n",
    "# header = pyfiglet.figlet_format(\"Dad Joke 3000\")\n",
    "# header = termcolor.colored(header, color=\"magenta\")\n",
    "# print(header)\n",
    "\n",
    "user_input = input(\"Let me tell you a joke! Give me a topic: \")\n",
    "response_json = requests.get(\n",
    "    \"https://icanhazdadjoke.com/search\",\n",
    "    headers={\"Accept\": \"application/json\"},\n",
    "    params={\"term\": user_input}\n",
    ").json()\n",
    "results = response_json[\"results\"]\n",
    "total_jokes = response_json[\"total_jokes\"]\n",
    "if total_jokes > 1:\n",
    "    print(\n",
    "        f\"I've got {total_jokes} jokes about {user_input}. Here's one:\\n\",\n",
    "        choice(results)['joke']\n",
    "    )\n",
    "elif total_jokes == 1:\n",
    "    print(\n",
    "        f\"I've got one joke about {user_input}. Here it is:\\n\",\n",
    "        results[0]['joke']\n",
    "    )\n",
    "else:\n",
    "    print(f\"Sorry, I don't have any jokes about {user_input}! Please try again.\")\n"
   ]
  }
 ],
 "metadata": {
  "kernelspec": {
   "display_name": "Python 3",
   "language": "python",
   "name": "python3"
  },
  "language_info": {
   "codemirror_mode": {
    "name": "ipython",
    "version": 3
   },
   "file_extension": ".py",
   "mimetype": "text/x-python",
   "name": "python",
   "nbconvert_exporter": "python",
   "pygments_lexer": "ipython3",
   "version": "3.8.5"
  }
 },
 "nbformat": 4,
 "nbformat_minor": 4
}
