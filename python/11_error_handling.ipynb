{
 "cells": [
  {
   "cell_type": "code",
   "execution_count": null,
   "metadata": {},
   "outputs": [],
   "source": [
    "#SyntaxError - typo like \"def first:\" w/o parenths, correct is \"def first()\"\n",
    "#NameError - variable is not defined typing'test' w/o values assigned\n",
    "#TypeError - length of float vs string len(5), or x= 3 +'s'\n",
    "#IndexError - list looks for position 2 (which is actually 3), but only 2 objects\n",
    "#ValueError - right type, but inappropriate value - int('word')--int cannot contain letters as value.\n",
    "#KeyError - occurs when key does not exist in dictionary\n",
    "#AttributeError - when variables does not have attribute. using \"joint\" instead of \"join\""
   ]
  },
  {
   "cell_type": "code",
   "execution_count": 61,
   "metadata": {},
   "outputs": [
    {
     "ename": "TypeError",
     "evalue": "",
     "output_type": "error",
     "traceback": [
      "\u001b[1;31m---------------------------------------------------------------------------\u001b[0m",
      "\u001b[1;31mTypeError\u001b[0m                                 Traceback (most recent call last)",
      "\u001b[1;32m<ipython-input-61-edb832a6149f>\u001b[0m in \u001b[0;36m<module>\u001b[1;34m\u001b[0m\n\u001b[1;32m----> 1\u001b[1;33m \u001b[1;32mraise\u001b[0m \u001b[0mTypeError\u001b[0m\u001b[1;33m\u001b[0m\u001b[1;33m\u001b[0m\u001b[0m\n\u001b[0m",
      "\u001b[1;31mTypeError\u001b[0m: "
     ]
    }
   ],
   "source": [
    "#Raising Own Errors\n",
    "\n",
    "raise NameError\n",
    "raise ValueError\n",
    "raise ValueError('invalid value')"
   ]
  },
  {
   "cell_type": "code",
   "execution_count": null,
   "metadata": {},
   "outputs": [],
   "source": [
    "##shows error types to \"raise\" \n",
    "\n",
    "def colorize(text, color):\n",
    "\tcolors = (\"cyan\", \"yellow\", \"blue\", \"green\", \"magenta\")\n",
    "\tif type(text) is not str:\n",
    "\t\traise TypeError(\"text must be instance of str\")\n",
    "\tif color not in colors:\n",
    "\t\traise ValueError(\"color is invalid color\")\n",
    "\tprint(f\"Printed {text} in {color}\")\n",
    "\n",
    "colorize([], 'cyan')\n",
    "# colorize(34, \"red\")"
   ]
  },
  {
   "cell_type": "code",
   "execution_count": null,
   "metadata": {},
   "outputs": [],
   "source": [
    "#Try and Except Blocks\n",
    "\n",
    "# THE BASIC SYNTAX:\n",
    "# try:\n",
    "# except:\n",
    "\n",
    "# try: \n",
    "#     foobar\n",
    "# except:\n",
    "#     print(\"PROBLEM!\")\n",
    "# print(\"after the try\")\n",
    "\n",
    "def get(d,key):\n",
    "\ttry:\n",
    "\t\treturn d[key]\n",
    "\texcept KeyError:\n",
    "\t\treturn None\n",
    "d = {\"name\": \"Ricky\"}\n",
    "print(get(d, \"city\"))\n",
    "d[\"city\"]\n"
   ]
  },
  {
   "cell_type": "code",
   "execution_count": null,
   "metadata": {},
   "outputs": [],
   "source": [
    "####TRY 2\n",
    "\n",
    "# try:\n",
    "# except:\n",
    "# else:\n",
    "# finally:\n",
    "\n",
    "\n",
    "while True: #WHILE LOOPS THROUGH unless break is included.\n",
    "\ttry:\n",
    "\t\tnum = int(input(\"please enter a number: \"))\n",
    "\texcept ValueError: \n",
    "\t\tprint(\"That's not a number!\")\n",
    "\telse:                                        #RUNS IF NO ERROR\n",
    "\t\tprint(\"Good job, you entered a number!\")\n",
    "\t\tbreak\n",
    "\tfinally:                                     #RUNS ALWAYS AFTER CODE\n",
    "\t\tprint(\"RUNS NO MATTER WHAT!\")\n",
    "print(\"REST OF GAME LOGIC RUNS!\")\n",
    "\n",
    "\n",
    "###simple example:\n",
    "\n",
    "# try:\n",
    "# \tnum = int(input(\"please enter a number: \"))\n",
    "# except:\n",
    "# \tprint(\"That's not a number!\")\n",
    "# else:\n",
    "# \tprint(\"I'M IN THE ELSE!\")\n",
    "# finally:\n",
    "# \tprint(\"RUNS NO MATTER WHAT!\")"
   ]
  },
  {
   "cell_type": "code",
   "execution_count": null,
   "metadata": {},
   "outputs": [],
   "source": [
    "#####DIVIDE; ZeroDivisionError\n",
    "\n",
    "\n",
    "# def divide(a,b):\n",
    "# \ttry:\n",
    "# \t\tresult = a/b\n",
    "# \texcept ZeroDivisionError:\n",
    "# \t\tprint(\"don't divide by zero please!\")\n",
    "# \texcept TypeError as err:\n",
    "# \t\tprint(\"a and b must be ints or floats\")\n",
    "# \t\tprint(err)\n",
    "# \telse:\n",
    "# \t\tprint(f\"{a} divided by {b} is {result}\")\n",
    "\n",
    "def divide(a,b):\n",
    "\ttry:\n",
    "\t\tresult = a/b\n",
    "\texcept (ZeroDivisionError, TypeError) as err:\n",
    "\t\tprint(\"Something went wrong!\")\n",
    "\t\tprint(err)\n",
    "\telse:\n",
    "\t\tprint(f\"{a} divided by {b} is {result}\")\n",
    "\n",
    "\n",
    "# print(divide(1,2))\n",
    "print(divide(1,'a'))\n",
    "print(divide(1,0))\n",
    "\n",
    "####better to chain errors together to be explicit"
   ]
  },
  {
   "cell_type": "code",
   "execution_count": null,
   "metadata": {},
   "outputs": [],
   "source": [
    "#pdb - PYTHON DEBUGGER...\n",
    "\n",
    "# FIRST EXAMPLE:\n",
    "# import pdb\n",
    "# first = \"First\"\n",
    "# second = \"Second\"\n",
    "# pdb.set_trace()\n",
    "# result = first + second\n",
    "# third = \"Third\"\n",
    "# result += third\n",
    "# print(result)\n",
    "\n",
    "\n",
    "# Be careful with variable names! They may conflict with common pdb commands...use \"p\" before variable names\n",
    "def add_numbers(a, b, c, d):\n",
    "    import pdb; pdb.set_trace() \n",
    "\n",
    "    return a + b + c + d\n",
    "add_numbers(1,2,3,4)\n",
    "\n",
    "# ===================\n",
    "# NOTES  NOTES  NOTES\n",
    "# ===================\n",
    "# import pdb\n",
    "# pdb.set_trace()\n",
    "\n",
    "# Also commonly on one line (doesn't remain in code after debugging)\n",
    "# import pdb; pdb.set_trace()\n",
    "\n",
    "# Common PDB Commands:\n",
    "# l (list)\n",
    "# n (next line)\n",
    "# p (print)\n",
    "# c (continue - finishes debugging)\n",
    "# a (gives all values), \n",
    "\n",
    "#DON'T HAVE VARIABLE NAMES THAT CONFLICT WITH THE "
   ]
  },
  {
   "cell_type": "code",
   "execution_count": 2,
   "metadata": {},
   "outputs": [
    {
     "name": "stdout",
     "output_type": "stream",
     "text": [
      "--Return--\n",
      "None\n",
      "> \u001b[1;32m<ipython-input-2-316a831a8a8b>\u001b[0m(4)\u001b[0;36m<module>\u001b[1;34m()\u001b[0m\n",
      "\u001b[1;32m      2 \u001b[1;33m\u001b[0mfirst\u001b[0m \u001b[1;33m=\u001b[0m \u001b[1;34m\"First\"\u001b[0m\u001b[1;33m\u001b[0m\u001b[1;33m\u001b[0m\u001b[0m\n",
      "\u001b[0m\u001b[1;32m      3 \u001b[1;33m\u001b[0msecond\u001b[0m \u001b[1;33m=\u001b[0m \u001b[1;34m\"Second\"\u001b[0m\u001b[1;33m\u001b[0m\u001b[1;33m\u001b[0m\u001b[0m\n",
      "\u001b[0m\u001b[1;32m----> 4 \u001b[1;33m\u001b[0mpdb\u001b[0m\u001b[1;33m.\u001b[0m\u001b[0mset_trace\u001b[0m\u001b[1;33m(\u001b[0m\u001b[1;33m)\u001b[0m\u001b[1;33m\u001b[0m\u001b[1;33m\u001b[0m\u001b[0m\n",
      "\u001b[0m\u001b[1;32m      5 \u001b[1;33m\u001b[0mresult\u001b[0m \u001b[1;33m=\u001b[0m \u001b[0mfirst\u001b[0m \u001b[1;33m+\u001b[0m \u001b[0msecond\u001b[0m\u001b[1;33m\u001b[0m\u001b[1;33m\u001b[0m\u001b[0m\n",
      "\u001b[0m\u001b[1;32m      6 \u001b[1;33m\u001b[0mthird\u001b[0m \u001b[1;33m=\u001b[0m \u001b[1;34m\"Third\"\u001b[0m\u001b[1;33m\u001b[0m\u001b[1;33m\u001b[0m\u001b[0m\n",
      "\u001b[0m\n",
      "ipdb> n\n",
      "\u001b[1;31m    [... skipped 1 hidden frame]\u001b[0m\n",
      "\n",
      "\u001b[1;31m    [... skipped 1 hidden frame]\u001b[0m\n",
      "\n",
      "\u001b[1;31m    [... skipped 1 hidden frame]\u001b[0m\n",
      "\n",
      "\u001b[1;31m    [... skipped 1 hidden frame]\u001b[0m\n",
      "\n",
      "> \u001b[1;32mc:\\programdata\\anaconda3\\lib\\site-packages\\ipython\\core\\interactiveshell.py\u001b[0m(3330)\u001b[0;36mrun_ast_nodes\u001b[1;34m()\u001b[0m\n",
      "\u001b[1;32m   3328 \u001b[1;33m                    \u001b[0mto_run\u001b[0m\u001b[1;33m.\u001b[0m\u001b[0mappend\u001b[0m\u001b[1;33m(\u001b[0m\u001b[1;33m(\u001b[0m\u001b[0mnode\u001b[0m\u001b[1;33m,\u001b[0m \u001b[1;34m'single'\u001b[0m\u001b[1;33m)\u001b[0m\u001b[1;33m)\u001b[0m\u001b[1;33m\u001b[0m\u001b[1;33m\u001b[0m\u001b[0m\n",
      "\u001b[0m\u001b[1;32m   3329 \u001b[1;33m\u001b[1;33m\u001b[0m\u001b[0m\n",
      "\u001b[0m\u001b[1;32m-> 3330 \u001b[1;33m                \u001b[1;32mfor\u001b[0m \u001b[0mnode\u001b[0m\u001b[1;33m,\u001b[0m\u001b[0mmode\u001b[0m \u001b[1;32min\u001b[0m \u001b[0mto_run\u001b[0m\u001b[1;33m:\u001b[0m\u001b[1;33m\u001b[0m\u001b[1;33m\u001b[0m\u001b[0m\n",
      "\u001b[0m\u001b[1;32m   3331 \u001b[1;33m                    \u001b[1;32mif\u001b[0m \u001b[0mmode\u001b[0m \u001b[1;33m==\u001b[0m \u001b[1;34m'exec'\u001b[0m\u001b[1;33m:\u001b[0m\u001b[1;33m\u001b[0m\u001b[1;33m\u001b[0m\u001b[0m\n",
      "\u001b[0m\u001b[1;32m   3332 \u001b[1;33m                        \u001b[0mmod\u001b[0m \u001b[1;33m=\u001b[0m \u001b[0mModule\u001b[0m\u001b[1;33m(\u001b[0m\u001b[1;33m[\u001b[0m\u001b[0mnode\u001b[0m\u001b[1;33m]\u001b[0m\u001b[1;33m,\u001b[0m \u001b[1;33m[\u001b[0m\u001b[1;33m]\u001b[0m\u001b[1;33m)\u001b[0m\u001b[1;33m\u001b[0m\u001b[1;33m\u001b[0m\u001b[0m\n",
      "\u001b[0m\n",
      "ipdb> p\n",
      "*** SyntaxError: unexpected EOF while parsing\n",
      "ipdb> l\n",
      "\u001b[0;32m   3325 \u001b[0m                    \u001b[0mto_run\u001b[0m\u001b[1;33m.\u001b[0m\u001b[0mappend\u001b[0m\u001b[1;33m(\u001b[0m\u001b[1;33m(\u001b[0m\u001b[0mnode\u001b[0m\u001b[1;33m,\u001b[0m \u001b[1;34m'exec'\u001b[0m\u001b[1;33m)\u001b[0m\u001b[1;33m)\u001b[0m\u001b[1;33m\u001b[0m\u001b[1;33m\u001b[0m\u001b[0m\n",
      "\u001b[0;32m   3326 \u001b[0m\u001b[1;33m\u001b[0m\u001b[0m\n",
      "\u001b[0;32m   3327 \u001b[0m                \u001b[1;32mfor\u001b[0m \u001b[0mnode\u001b[0m \u001b[1;32min\u001b[0m \u001b[0mto_run_interactive\u001b[0m\u001b[1;33m:\u001b[0m\u001b[1;33m\u001b[0m\u001b[1;33m\u001b[0m\u001b[0m\n",
      "\u001b[0;32m   3328 \u001b[0m                    \u001b[0mto_run\u001b[0m\u001b[1;33m.\u001b[0m\u001b[0mappend\u001b[0m\u001b[1;33m(\u001b[0m\u001b[1;33m(\u001b[0m\u001b[0mnode\u001b[0m\u001b[1;33m,\u001b[0m \u001b[1;34m'single'\u001b[0m\u001b[1;33m)\u001b[0m\u001b[1;33m)\u001b[0m\u001b[1;33m\u001b[0m\u001b[1;33m\u001b[0m\u001b[0m\n",
      "\u001b[0;32m   3329 \u001b[0m\u001b[1;33m\u001b[0m\u001b[0m\n",
      "\u001b[1;32m-> 3330 \u001b[1;33m                \u001b[1;32mfor\u001b[0m \u001b[0mnode\u001b[0m\u001b[1;33m,\u001b[0m\u001b[0mmode\u001b[0m \u001b[1;32min\u001b[0m \u001b[0mto_run\u001b[0m\u001b[1;33m:\u001b[0m\u001b[1;33m\u001b[0m\u001b[1;33m\u001b[0m\u001b[0m\n",
      "\u001b[0m\u001b[0;32m   3331 \u001b[0m                    \u001b[1;32mif\u001b[0m \u001b[0mmode\u001b[0m \u001b[1;33m==\u001b[0m \u001b[1;34m'exec'\u001b[0m\u001b[1;33m:\u001b[0m\u001b[1;33m\u001b[0m\u001b[1;33m\u001b[0m\u001b[0m\n",
      "\u001b[0;32m   3332 \u001b[0m                        \u001b[0mmod\u001b[0m \u001b[1;33m=\u001b[0m \u001b[0mModule\u001b[0m\u001b[1;33m(\u001b[0m\u001b[1;33m[\u001b[0m\u001b[0mnode\u001b[0m\u001b[1;33m]\u001b[0m\u001b[1;33m,\u001b[0m \u001b[1;33m[\u001b[0m\u001b[1;33m]\u001b[0m\u001b[1;33m)\u001b[0m\u001b[1;33m\u001b[0m\u001b[1;33m\u001b[0m\u001b[0m\n",
      "\u001b[0;32m   3333 \u001b[0m                    \u001b[1;32melif\u001b[0m \u001b[0mmode\u001b[0m \u001b[1;33m==\u001b[0m \u001b[1;34m'single'\u001b[0m\u001b[1;33m:\u001b[0m\u001b[1;33m\u001b[0m\u001b[1;33m\u001b[0m\u001b[0m\n",
      "\u001b[0;32m   3334 \u001b[0m                        \u001b[0mmod\u001b[0m \u001b[1;33m=\u001b[0m \u001b[0mast\u001b[0m\u001b[1;33m.\u001b[0m\u001b[0mInteractive\u001b[0m\u001b[1;33m(\u001b[0m\u001b[1;33m[\u001b[0m\u001b[0mnode\u001b[0m\u001b[1;33m]\u001b[0m\u001b[1;33m)\u001b[0m\u001b[1;33m\u001b[0m\u001b[1;33m\u001b[0m\u001b[0m\n",
      "\u001b[0;32m   3335 \u001b[0m                    \u001b[1;32mwith\u001b[0m \u001b[0mcompiler\u001b[0m\u001b[1;33m.\u001b[0m\u001b[0mextra_flags\u001b[0m\u001b[1;33m(\u001b[0m\u001b[0mgetattr\u001b[0m\u001b[1;33m(\u001b[0m\u001b[0mast\u001b[0m\u001b[1;33m,\u001b[0m \u001b[1;34m'PyCF_ALLOW_TOP_LEVEL_AWAIT'\u001b[0m\u001b[1;33m,\u001b[0m \u001b[1;36m0x0\u001b[0m\u001b[1;33m)\u001b[0m \u001b[1;32mif\u001b[0m \u001b[0mself\u001b[0m\u001b[1;33m.\u001b[0m\u001b[0mautoawait\u001b[0m \u001b[1;32melse\u001b[0m \u001b[1;36m0x0\u001b[0m\u001b[1;33m)\u001b[0m\u001b[1;33m:\u001b[0m\u001b[1;33m\u001b[0m\u001b[1;33m\u001b[0m\u001b[0m\n",
      "\n",
      "ipdb> c\n",
      "FirstSecondThird\n"
     ]
    }
   ],
   "source": [
    "import pdb\n",
    "first = \"First\"\n",
    "second = \"Second\"\n",
    "pdb.set_trace()\n",
    "result = first + second\n",
    "third = \"Third\"\n",
    "result += third\n",
    "print(result)"
   ]
  },
  {
   "cell_type": "code",
   "execution_count": 9,
   "metadata": {},
   "outputs": [
    {
     "name": "stdout",
     "output_type": "stream",
     "text": [
      "0.5\n",
      "Please do not divide by zero\n",
      "Please provide two integers or floats\n"
     ]
    }
   ],
   "source": [
    "#Exercise:\n",
    " \n",
    "def divide(a,b):\n",
    "    try:\n",
    "        total = a / b\n",
    "    except TypeError:\n",
    "        return \"Please provide two integers or floats\"\n",
    "    except ZeroDivisionError:\n",
    "        return \"Please do not divide by zero\"\n",
    "    return total\n",
    "\n",
    "print(divide(1,2))\n",
    "print(divide(1,0))\n",
    "print(divide(1,\"blue\"))\n",
    "    "
   ]
  },
  {
   "cell_type": "code",
   "execution_count": null,
   "metadata": {},
   "outputs": [],
   "source": []
  }
 ],
 "metadata": {
  "kernelspec": {
   "display_name": "Python 3",
   "language": "python",
   "name": "python3"
  },
  "language_info": {
   "codemirror_mode": {
    "name": "ipython",
    "version": 3
   },
   "file_extension": ".py",
   "mimetype": "text/x-python",
   "name": "python",
   "nbconvert_exporter": "python",
   "pygments_lexer": "ipython3",
   "version": "3.8.5"
  }
 },
 "nbformat": 4,
 "nbformat_minor": 4
}
