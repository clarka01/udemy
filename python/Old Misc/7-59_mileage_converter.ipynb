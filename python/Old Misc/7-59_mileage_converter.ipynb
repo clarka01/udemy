{
 "cells": [
  {
   "cell_type": "code",
   "execution_count": 1,
   "metadata": {},
   "outputs": [
    {
     "name": "stdout",
     "output_type": "stream",
     "text": [
      "How many kilometers did you cycle today?\n",
      "5\n",
      "Your 5km ride was 3.11mi \n"
     ]
    }
   ],
   "source": [
    "print(\"How many kilometers did you cycle today?\")\n",
    "kms = input() #get user input\n",
    "miles = float(kms)/1.60934 #convert from string to float and divide\n",
    "miles = round(miles, 2) #round the result\n",
    "print(f\"Your {kms}km ride was {miles}mi \")  "
   ]
  },
  {
   "cell_type": "markdown",
   "metadata": {},
   "source": [
    "ROUND SYNTAX:<br>\n",
    "round(thing to round, how many decimal points)"
   ]
  }
 ],
 "metadata": {
  "kernelspec": {
   "display_name": "Python 3",
   "language": "python",
   "name": "python3"
  },
  "language_info": {
   "codemirror_mode": {
    "name": "ipython",
    "version": 3
   },
   "file_extension": ".py",
   "mimetype": "text/x-python",
   "name": "python",
   "nbconvert_exporter": "python",
   "pygments_lexer": "ipython3",
   "version": "3.8.5"
  }
 },
 "nbformat": 4,
 "nbformat_minor": 2
}
