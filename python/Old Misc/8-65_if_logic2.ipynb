{
 "cells": [
  {
   "cell_type": "code",
   "execution_count": null,
   "metadata": {},
   "outputs": [],
   "source": [
    "color = input(\"What's your favorite color?\")\n",
    "if color == 'purple':\n",
    "\tprint(\"excellent choice!\")\n",
    "elif color == 'teal':\n",
    "    print(\"not bad!\")\n",
    "elif color == 'seafoam':\n",
    "    print(\"mediocre\")\n",
    "elif color == 'pure darkness':\n",
    "    print(\"I like how you think\")\n",
    "else: \n",
    "\tprint(\"YOU MONSTER!\") "
   ]
  }
 ],
 "metadata": {
  "kernelspec": {
   "display_name": "Python 3",
   "language": "python",
   "name": "python3"
  },
  "language_info": {
   "codemirror_mode": {
    "name": "ipython",
    "version": 3
   },
   "file_extension": ".py",
   "mimetype": "text/x-python",
   "name": "python",
   "nbconvert_exporter": "python",
   "pygments_lexer": "ipython3",
   "version": "3.8.5"
  }
 },
 "nbformat": 4,
 "nbformat_minor": 2
}
